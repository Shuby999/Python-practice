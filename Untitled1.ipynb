{
 "cells": [
  {
   "cell_type": "code",
   "execution_count": 6,
   "id": "ea94b586",
   "metadata": {},
   "outputs": [
    {
     "name": "stdout",
     "output_type": "stream",
     "text": [
      "Try to solve\n",
      "an exercise by filling\n",
      "in the missing parts of a code.\n"
     ]
    }
   ],
   "source": [
    "print(\"Try to solve\\nan exercise by filling\\nin the missing parts of a code.\")"
   ]
  },
  {
   "cell_type": "code",
   "execution_count": 11,
   "id": "d5050e2b",
   "metadata": {},
   "outputs": [
    {
     "name": "stdout",
     "output_type": "stream",
     "text": [
      "Try to solve an exercise by filling in the missing parts of a code.\n"
     ]
    }
   ],
   "source": [
    "\"\"\"Try to solve an exercise\n",
    "by filling in the missing \n",
    "parts of a code.\"\"\"\n",
    "print(\"Try to solve an exercise by filling in the missing parts of a code.\")"
   ]
  },
  {
   "cell_type": "code",
   "execution_count": 14,
   "id": "c0c8dbd1",
   "metadata": {},
   "outputs": [
    {
     "name": "stdout",
     "output_type": "stream",
     "text": [
      "Addition of a and b is 5\n",
      "Substraction of a and b is -1\n"
     ]
    }
   ],
   "source": [
    "a=2\n",
    "b=3\n",
    "ans1=a+b\n",
    "print(\"Addition of a and b is\",ans1)\n",
    "ans2=a-b\n",
    "print(\"Substraction of a and b is\",ans2)"
   ]
  },
  {
   "cell_type": "code",
   "execution_count": 15,
   "id": "55e91606",
   "metadata": {},
   "outputs": [
    {
     "name": "stdout",
     "output_type": "stream",
     "text": [
      "ar\n"
     ]
    }
   ],
   "source": [
    "a=\"harry\"\n",
    "print(a[-4:-2])"
   ]
  },
  {
   "cell_type": "code",
   "execution_count": 73,
   "id": "17f73e78",
   "metadata": {},
   "outputs": [
    {
     "name": "stdout",
     "output_type": "stream",
     "text": [
      "Time:1\n",
      "Good Morning\n"
     ]
    }
   ],
   "source": [
    "import time\n",
    "hour=int(input('Time:'))\n",
    "\n",
    "if(hour>=0 and hour<12):\n",
    "    print(\"Good Morning\")\n",
    "elif(hour>=12 and hour<17):\n",
    "    print(\"Good Afternoon\")\n",
    "elif(hour>=17 and hour<20):\n",
    "    print(\"Good Evening\")\n",
    "else:\n",
    "    print(\"Good Night\")"
   ]
  },
  {
   "cell_type": "code",
   "execution_count": 12,
   "id": "e216969b",
   "metadata": {},
   "outputs": [
    {
     "name": "stdout",
     "output_type": "stream",
     "text": [
      "NP\n"
     ]
    }
   ],
   "source": [
    "n=\"a,m,a,a,m,a\"\n",
    "if n==reversed(n):\n",
    "    print(\"Palindrome\")\n",
    "else:\n",
    "    print(\"NP\")"
   ]
  },
  {
   "cell_type": "code",
   "execution_count": 14,
   "id": "ec2aa855",
   "metadata": {},
   "outputs": [
    {
     "name": "stdout",
     "output_type": "stream",
     "text": [
      "the string is not palindrome\n"
     ]
    }
   ],
   "source": [
    "# code\n",
    "string =\"a,m,a,a,m,a\"\n",
    "print(\"the string is palindrome\" if string==reversed(string) else \"the string is not palindrome\")\n"
   ]
  },
  {
   "cell_type": "code",
   "execution_count": 20,
   "id": "44e32cd5",
   "metadata": {},
   "outputs": [
    {
     "name": "stdout",
     "output_type": "stream",
     "text": [
      "amaama string is symmetrical\n",
      "amaama string is palindrome\n"
     ]
    }
   ],
   "source": [
    "string = 'amaama'\n",
    "half = int(len(string) / 2)\n",
    "\n",
    "\n",
    "first_str = string[:]\n",
    "second_str = string[:]\n",
    "\n",
    "\n",
    "# symmetric\n",
    "if first_str == second_str:\n",
    "\tprint(string, 'string is symmetrical')\n",
    "else:\n",
    "\tprint(string, 'string is not symmetrical')\n",
    "\n",
    "# palindrome\n",
    "if first_str == second_str[::-1]: # ''.join(reversed(second_str)) [slower]\n",
    "\tprint(string, 'string is palindrome')\n",
    "else:\n",
    "\tprint(string, 'string is not palindrome')\n"
   ]
  },
  {
   "cell_type": "code",
   "execution_count": 24,
   "id": "2dfff28a",
   "metadata": {},
   "outputs": [
    {
     "name": "stdout",
     "output_type": "stream",
     "text": [
      "amaama is palindrome\n"
     ]
    }
   ],
   "source": [
    "s=\"amaama\"\n",
    "half=int(len(s)/2)\n",
    "\n",
    "first_str=s[:half]\n",
    "second_str=s[half:]\n",
    "\n",
    "if first_str==second_str[::-1]:\n",
    "    print(s,\"is palindrome\")\n",
    "else:\n",
    "    print(s,\"is not palindrome\")"
   ]
  },
  {
   "cell_type": "code",
   "execution_count": 25,
   "id": "8e2bf682",
   "metadata": {},
   "outputs": [
    {
     "name": "stdout",
     "output_type": "stream",
     "text": [
      "the string is not palindrome\n"
     ]
    }
   ],
   "source": [
    "# code\n",
    "string =\"amaama\"\n",
    "print(\"the string is palindrome\" if string==reversed(string) else \"the string is not palindrome\")\n"
   ]
  },
  {
   "cell_type": "code",
   "execution_count": 35,
   "id": "7d9a3310",
   "metadata": {},
   "outputs": [
    {
     "name": "stdout",
     "output_type": "stream",
     "text": [
      "edoc ecitcarp ziuq skeeg \n"
     ]
    }
   ],
   "source": [
    "str =\" geeks quiz practice code\"\n",
    "reverse=str[::-1]\n",
    "print(reverse)"
   ]
  },
  {
   "cell_type": "code",
   "execution_count": 36,
   "id": "c738c733",
   "metadata": {},
   "outputs": [
    {
     "name": "stdout",
     "output_type": "stream",
     "text": [
      "code practice quiz geeks\n"
     ]
    }
   ],
   "source": [
    "# Python code\n",
    "# To reverse words in a given string\n",
    "\n",
    "# input string\n",
    "string = \"geeks quiz practice code\"\n",
    "# reversing words in a given string\n",
    "s = string.split()[::-1]\n",
    "l = []\n",
    "for i in s:\n",
    "\t# appending reversed words to l\n",
    "\tl.append(i)\n",
    "# printing reverse words\n",
    "print(\" \".join(l))\n"
   ]
  },
  {
   "cell_type": "code",
   "execution_count": 38,
   "id": "86466edc",
   "metadata": {},
   "outputs": [
    {
     "name": "stdout",
     "output_type": "stream",
     "text": [
      "skeeg ziuq ecitcarp edoc\n"
     ]
    }
   ],
   "source": [
    "str=\"code practice quiz geeks\"\n",
    "a=str[::-1]\n",
    "print(a)"
   ]
  },
  {
   "cell_type": "code",
   "execution_count": 42,
   "id": "1aaf3c33",
   "metadata": {},
   "outputs": [
    {
     "name": "stdout",
     "output_type": "stream",
     "text": [
      "['geeks', 'quiz', 'practice', 'code']\n",
      "geeks quiz practice code\n"
     ]
    }
   ],
   "source": [
    "str=\"code practice quiz geeks\"\n",
    "s=str.split()[::-1]\n",
    "l=[]\n",
    "for i in s:\n",
    "    l.append(i)\n",
    "print(l)\n",
    "print(\" \".join(l))"
   ]
  },
  {
   "cell_type": "code",
   "execution_count": 43,
   "id": "a3b8bead",
   "metadata": {},
   "outputs": [
    {
     "name": "stdout",
     "output_type": "stream",
     "text": [
      "laxmi is name my\n"
     ]
    }
   ],
   "source": [
    "str = \"my name is laxmi\"\n",
    "s=str.split()[::-1]\n",
    "l=[]\n",
    "for i in s:\n",
    "    l.append(i)\n",
    "print(\" \".join(l))"
   ]
  },
  {
   "cell_type": "code",
   "execution_count": 49,
   "id": "9632b5b0",
   "metadata": {},
   "outputs": [
    {
     "name": "stdout",
     "output_type": "stream",
     "text": [
      "GeeksForGeeks\n"
     ]
    }
   ],
   "source": [
    "str='Geeks123For123Geeks'\n",
    "print(str.replace(\"123\",\"\"))\n"
   ]
  },
  {
   "cell_type": "code",
   "execution_count": 51,
   "id": "da1c68d0",
   "metadata": {},
   "outputs": [
    {
     "name": "stdout",
     "output_type": "stream",
     "text": [
      "13\n"
     ]
    }
   ],
   "source": [
    "str= 'hello world !'\n",
    "print(len(str))"
   ]
  },
  {
   "cell_type": "code",
   "execution_count": 27,
   "id": "41772cd2",
   "metadata": {
    "scrolled": false
   },
   "outputs": [
    {
     "name": "stdout",
     "output_type": "stream",
     "text": [
      "7\n"
     ]
    }
   ],
   "source": [
    "def findlen(n):\n",
    "    count=0\n",
    "    for i in n:\n",
    "        count+=1\n",
    "    return count\n",
    " \n",
    "\n",
    "print(findlen(\"Shubham\"))"
   ]
  },
  {
   "cell_type": "code",
   "execution_count": 74,
   "id": "e4dc62c4",
   "metadata": {},
   "outputs": [
    {
     "name": "stdout",
     "output_type": "stream",
     "text": [
      "Lenght of str is: geeksforgeeks 33 best\n",
      "21\n",
      "Lenght of str after avoiding spaces is: 19\n"
     ]
    }
   ],
   "source": [
    "str = \"geeksforgeeks 33 best\"\n",
    "print(\"Lenght of str is:\",str)\n",
    "print(len(str))\n",
    "str=str.replace(\" \",\"\")\n",
    "print(\"Lenght of str after avoiding spaces is:\",len(str))"
   ]
  },
  {
   "cell_type": "code",
   "execution_count": 77,
   "id": "887c186d",
   "metadata": {},
   "outputs": [
    {
     "ename": "TypeError",
     "evalue": "'str' object is not callable",
     "output_type": "error",
     "traceback": [
      "\u001b[1;31m---------------------------------------------------------------------------\u001b[0m",
      "\u001b[1;31mTypeError\u001b[0m                                 Traceback (most recent call last)",
      "Cell \u001b[1;32mIn[77], line 9\u001b[0m\n\u001b[0;32m      6\u001b[0m test_str \u001b[38;5;241m=\u001b[39m \u001b[38;5;124m'\u001b[39m\u001b[38;5;124mgeeksforgeeks 33 is best\u001b[39m\u001b[38;5;124m'\u001b[39m\n\u001b[0;32m      8\u001b[0m \u001b[38;5;66;03m# printing original string\u001b[39;00m\n\u001b[1;32m----> 9\u001b[0m \u001b[38;5;28mprint\u001b[39m(\u001b[38;5;124m\"\u001b[39m\u001b[38;5;124mThe original string is : \u001b[39m\u001b[38;5;124m\"\u001b[39m \u001b[38;5;241m+\u001b[39m \u001b[38;5;28;43mstr\u001b[39;49m\u001b[43m(\u001b[49m\u001b[43mtest_str\u001b[49m\u001b[43m)\u001b[49m)\n\u001b[0;32m     11\u001b[0m \u001b[38;5;66;03m# isspace() checks for space \u001b[39;00m\n\u001b[0;32m     12\u001b[0m \u001b[38;5;66;03m# sum checks count \u001b[39;00m\n\u001b[0;32m     13\u001b[0m res \u001b[38;5;241m=\u001b[39m \u001b[38;5;28msum\u001b[39m(\u001b[38;5;129;01mnot\u001b[39;00m \u001b[38;5;28mchr\u001b[39m\u001b[38;5;241m.\u001b[39misspace() \u001b[38;5;28;01mfor\u001b[39;00m \u001b[38;5;28mchr\u001b[39m \u001b[38;5;129;01min\u001b[39;00m test_str)\n",
      "\u001b[1;31mTypeError\u001b[0m: 'str' object is not callable"
     ]
    }
   ],
   "source": [
    "# Python3 code to demonstrate working of \n",
    "# Avoid Spaces in Characters Frequency\n",
    "# Using isspace() + sum()\n",
    "\n",
    "# initializing string\n",
    "test_str = 'geeksforgeeks 33 is best'\n",
    "\n",
    "# printing original string\n",
    "print(\"The original string is : \" + str(test_str))\n",
    "\n",
    "# isspace() checks for space \n",
    "# sum checks count \n",
    "res = sum(not chr.isspace() for chr in test_str)\n",
    "\t\n",
    "# printing result \n",
    "print(\"The Characters Frequency avoiding spaces : \" + str(res)) \n",
    "\n"
   ]
  },
  {
   "cell_type": "code",
   "execution_count": 80,
   "id": "37355bad",
   "metadata": {},
   "outputs": [
    {
     "name": "stdout",
     "output_type": "stream",
     "text": [
      "['A.Mamta Banarjee B.Ram Vilash C.Ashwini Vaishnaw D.Piyush Goyal']\n",
      "c\n"
     ]
    }
   ],
   "source": [
    "ques1=[\"Current Railway Minister of India is\"]\n",
    "print([\"A.Mamta Banarjee B.Ram Vilash C.Ashwini Vaishnaw D.Piyush Goyal\"])\n",
    "ques1=input()"
   ]
  },
  {
   "cell_type": "code",
   "execution_count": 7,
   "id": "3986924a",
   "metadata": {},
   "outputs": [
    {
     "name": "stdout",
     "output_type": "stream",
     "text": [
      "1\n"
     ]
    },
    {
     "ename": "RecursionError",
     "evalue": "maximum recursion depth exceeded in comparison",
     "output_type": "error",
     "traceback": [
      "\u001b[1;31m---------------------------------------------------------------------------\u001b[0m",
      "\u001b[1;31mRecursionError\u001b[0m                            Traceback (most recent call last)",
      "Cell \u001b[1;32mIn[7], line 8\u001b[0m\n\u001b[0;32m      5\u001b[0m         \u001b[38;5;28;01mreturn\u001b[39;00m ( fibonachi(n\u001b[38;5;241m-\u001b[39m\u001b[38;5;241m1\u001b[39m \u001b[38;5;241m+\u001b[39m n\u001b[38;5;241m-\u001b[39m\u001b[38;5;241m2\u001b[39m))\n\u001b[0;32m      7\u001b[0m \u001b[38;5;28mprint\u001b[39m(fibonachi(\u001b[38;5;241m2\u001b[39m))\n\u001b[1;32m----> 8\u001b[0m \u001b[38;5;28mprint\u001b[39m(\u001b[43mfibonachi\u001b[49m\u001b[43m(\u001b[49m\u001b[38;5;241;43m3\u001b[39;49m\u001b[43m)\u001b[49m)\n",
      "Cell \u001b[1;32mIn[7], line 5\u001b[0m, in \u001b[0;36mfibonachi\u001b[1;34m(n)\u001b[0m\n\u001b[0;32m      3\u001b[0m     \u001b[38;5;28;01mreturn\u001b[39;00m \u001b[38;5;241m1\u001b[39m\n\u001b[0;32m      4\u001b[0m \u001b[38;5;28;01melse\u001b[39;00m:\n\u001b[1;32m----> 5\u001b[0m     \u001b[38;5;28;01mreturn\u001b[39;00m ( \u001b[43mfibonachi\u001b[49m\u001b[43m(\u001b[49m\u001b[43mn\u001b[49m\u001b[38;5;241;43m-\u001b[39;49m\u001b[38;5;241;43m1\u001b[39;49m\u001b[43m \u001b[49m\u001b[38;5;241;43m+\u001b[39;49m\u001b[43m \u001b[49m\u001b[43mn\u001b[49m\u001b[38;5;241;43m-\u001b[39;49m\u001b[38;5;241;43m2\u001b[39;49m\u001b[43m)\u001b[49m)\n",
      "Cell \u001b[1;32mIn[7], line 5\u001b[0m, in \u001b[0;36mfibonachi\u001b[1;34m(n)\u001b[0m\n\u001b[0;32m      3\u001b[0m     \u001b[38;5;28;01mreturn\u001b[39;00m \u001b[38;5;241m1\u001b[39m\n\u001b[0;32m      4\u001b[0m \u001b[38;5;28;01melse\u001b[39;00m:\n\u001b[1;32m----> 5\u001b[0m     \u001b[38;5;28;01mreturn\u001b[39;00m ( \u001b[43mfibonachi\u001b[49m\u001b[43m(\u001b[49m\u001b[43mn\u001b[49m\u001b[38;5;241;43m-\u001b[39;49m\u001b[38;5;241;43m1\u001b[39;49m\u001b[43m \u001b[49m\u001b[38;5;241;43m+\u001b[39;49m\u001b[43m \u001b[49m\u001b[43mn\u001b[49m\u001b[38;5;241;43m-\u001b[39;49m\u001b[38;5;241;43m2\u001b[39;49m\u001b[43m)\u001b[49m)\n",
      "    \u001b[1;31m[... skipping similar frames: fibonachi at line 5 (2969 times)]\u001b[0m\n",
      "Cell \u001b[1;32mIn[7], line 5\u001b[0m, in \u001b[0;36mfibonachi\u001b[1;34m(n)\u001b[0m\n\u001b[0;32m      3\u001b[0m     \u001b[38;5;28;01mreturn\u001b[39;00m \u001b[38;5;241m1\u001b[39m\n\u001b[0;32m      4\u001b[0m \u001b[38;5;28;01melse\u001b[39;00m:\n\u001b[1;32m----> 5\u001b[0m     \u001b[38;5;28;01mreturn\u001b[39;00m ( \u001b[43mfibonachi\u001b[49m\u001b[43m(\u001b[49m\u001b[43mn\u001b[49m\u001b[38;5;241;43m-\u001b[39;49m\u001b[38;5;241;43m1\u001b[39;49m\u001b[43m \u001b[49m\u001b[38;5;241;43m+\u001b[39;49m\u001b[43m \u001b[49m\u001b[43mn\u001b[49m\u001b[38;5;241;43m-\u001b[39;49m\u001b[38;5;241;43m2\u001b[39;49m\u001b[43m)\u001b[49m)\n",
      "Cell \u001b[1;32mIn[7], line 2\u001b[0m, in \u001b[0;36mfibonachi\u001b[1;34m(n)\u001b[0m\n\u001b[0;32m      1\u001b[0m \u001b[38;5;28;01mdef\u001b[39;00m \u001b[38;5;21mfibonachi\u001b[39m(n):\n\u001b[1;32m----> 2\u001b[0m     \u001b[38;5;28;01mif\u001b[39;00m( \u001b[43mn\u001b[49m\u001b[38;5;241;43m==\u001b[39;49m\u001b[38;5;241;43m1\u001b[39;49m):\n\u001b[0;32m      3\u001b[0m         \u001b[38;5;28;01mreturn\u001b[39;00m \u001b[38;5;241m1\u001b[39m\n\u001b[0;32m      4\u001b[0m     \u001b[38;5;28;01melse\u001b[39;00m:\n",
      "\u001b[1;31mRecursionError\u001b[0m: maximum recursion depth exceeded in comparison"
     ]
    }
   ],
   "source": [
    "def fibonachi(n):\n",
    "    if( n==1):\n",
    "        return 1\n",
    "    else:\n",
    "        return ( fibonachi(n-1 + n-2))\n",
    "    \n",
    "print(fibonachi(2))\n",
    "print(fibonachi(3))"
   ]
  },
  {
   "cell_type": "code",
   "execution_count": 11,
   "id": "e897e266",
   "metadata": {},
   "outputs": [
    {
     "name": "stdout",
     "output_type": "stream",
     "text": [
      "comparison in exceeded depth recursion maximum\n"
     ]
    }
   ],
   "source": [
    "a=\"maximum recursion depth exceeded in comparison\"\n",
    "b=a.split()[::-1]\n",
    "l=[]\n",
    "for i in b:\n",
    "    l.append(i)\n",
    "print(\" \".join(l))"
   ]
  },
  {
   "cell_type": "code",
   "execution_count": 19,
   "id": "b07b23c7",
   "metadata": {},
   "outputs": [
    {
     "name": "stdout",
     "output_type": "stream",
     "text": [
      "nosirapmoc ni dedeecxe htped noisrucer mumixam\n"
     ]
    }
   ],
   "source": [
    "a=\"maximum recursion depth exceeded in comparison\"\n",
    "b=a[::-1]\n",
    "print(b)"
   ]
  },
  {
   "cell_type": "code",
   "execution_count": 21,
   "id": "02e0d954",
   "metadata": {},
   "outputs": [
    {
     "name": "stdout",
     "output_type": "stream",
     "text": [
      "maximum recursion depth exceeded  comparison\n"
     ]
    }
   ],
   "source": [
    "a=\"maximum recursion depth exceeded in comparison\"\n",
    "print(a.replace(\"in\",\"\"))\n",
    "\n"
   ]
  },
  {
   "cell_type": "code",
   "execution_count": 22,
   "id": "cec66c7c",
   "metadata": {},
   "outputs": [
    {
     "name": "stdout",
     "output_type": "stream",
     "text": [
      "46\n"
     ]
    }
   ],
   "source": [
    "a=\"maximum recursion depth exceeded in comparison\"\n",
    "print(len(a))"
   ]
  },
  {
   "cell_type": "code",
   "execution_count": 33,
   "id": "4afe9a30",
   "metadata": {},
   "outputs": [
    {
     "name": "stdout",
     "output_type": "stream",
     "text": [
      "46\n"
     ]
    }
   ],
   "source": [
    "a=\"maximum recursion depth exceeded in comparison\"\n",
    "\n",
    "def findlen(a):\n",
    "    count=0\n",
    "    for i in a:\n",
    "        count+=1\n",
    "    return count\n",
    "\n",
    "print(findlen(a))"
   ]
  },
  {
   "cell_type": "code",
   "execution_count": 37,
   "id": "8669bb18",
   "metadata": {},
   "outputs": [
    {
     "name": "stdout",
     "output_type": "stream",
     "text": [
      "41\n"
     ]
    }
   ],
   "source": [
    "a=\"maximum recursion depth exceeded in comparison\"\n",
    "b=a.replace(\" \",\"\")\n",
    "print(len(b))\n"
   ]
  },
  {
   "cell_type": "code",
   "execution_count": 61,
   "id": "c5ec898e",
   "metadata": {},
   "outputs": [
    {
     "name": "stdout",
     "output_type": "stream",
     "text": [
      "is\n",
      "python\n",
      "language\n"
     ]
    }
   ],
   "source": [
    "s = \"Thi is a python language\"\n",
    "a=s.split(\" \")\n",
    "for i in a:\n",
    "    if len(i)%2==0:\n",
    "        print(i)"
   ]
  },
  {
   "cell_type": "code",
   "execution_count": 5,
   "id": "482cd753",
   "metadata": {},
   "outputs": [
    {
     "name": "stdout",
     "output_type": "stream",
     "text": [
      "am\n"
     ]
    }
   ],
   "source": [
    "s = \"i am laxmi\"\n",
    "a=s.split()\n",
    "for i in a:\n",
    "    if len(i)%2==0:\n",
    "        print(i)"
   ]
  },
  {
   "cell_type": "code",
   "execution_count": 51,
   "id": "802eeb43",
   "metadata": {},
   "outputs": [
    {
     "name": "stdout",
     "output_type": "stream",
     "text": [
      "['is', 'python']\n"
     ]
    }
   ],
   "source": [
    "s = \"This is a python language\"\n",
    "a=s.split()[1::2]\n",
    "print(a)\n",
    "\n"
   ]
  },
  {
   "cell_type": "code",
   "execution_count": 81,
   "id": "10b8d2da",
   "metadata": {},
   "outputs": [
    {
     "name": "stdout",
     "output_type": "stream",
     "text": [
      "GEEKSForgeek\n"
     ]
    }
   ],
   "source": [
    "test = 'geeksforgeek'\n",
    "lent=len(test)//2 \n",
    "first=test[0:lent]\n",
    "second=test[lent::]\n",
    "print(first.upper() + second)\n"
   ]
  },
  {
   "cell_type": "code",
   "execution_count": 83,
   "id": "595b7e55",
   "metadata": {},
   "outputs": [
    {
     "name": "stdout",
     "output_type": "stream",
     "text": [
      "appLES\n"
     ]
    }
   ],
   "source": [
    "str = 'apples'\n",
    "x=len(str)//2\n",
    "first=str[:x]\n",
    "second=str[x::]\n",
    "print(first + second.upper())"
   ]
  },
  {
   "cell_type": "code",
   "execution_count": 12,
   "id": "72206a30",
   "metadata": {},
   "outputs": [
    {
     "name": "stdout",
     "output_type": "stream",
     "text": [
      "WelcomE TO ForM GeeksforgeekS\n"
     ]
    }
   ],
   "source": [
    "a=\"welcome to form geeksforgeeks\"\n",
    "b=a.split()\n",
    "l=[]\n",
    "for i in b:\n",
    "    x= i[0].upper()+i[1:-1]+i[-1].upper()\n",
    "    l.append(x)\n",
    "l=\" \".join(l)\n",
    "print(l)"
   ]
  },
  {
   "cell_type": "code",
   "execution_count": 8,
   "id": "4bf7cac2",
   "metadata": {},
   "outputs": [
    {
     "name": "stdout",
     "output_type": "stream",
     "text": [
      "WelcomE TO GeeksforgeekS\n"
     ]
    }
   ],
   "source": [
    "# Python program to capitalize\n",
    "# first and last character of\n",
    "# each word of a String\n",
    "\n",
    "s = \"welcome to geeksforgeeks\"\n",
    "a = s.split()\n",
    "res = []\n",
    "for i in a:\n",
    "\tx = i[0].upper()+i[1:-1]+i[-1].upper()\n",
    "\tres.append(x)\n",
    "res = \" \".join(res)\n",
    "print( res)\n"
   ]
  },
  {
   "cell_type": "code",
   "execution_count": 14,
   "id": "10b2b68e",
   "metadata": {},
   "outputs": [
    {
     "name": "stdout",
     "output_type": "stream",
     "text": [
      "True\n"
     ]
    }
   ],
   "source": [
    "a=\"welcome2ourcountry34\"\n",
    "print(a.isalnum())"
   ]
  },
  {
   "cell_type": "code",
   "execution_count": 16,
   "id": "9180ea5b",
   "metadata": {},
   "outputs": [
    {
     "name": "stdout",
     "output_type": "stream",
     "text": [
      "WelcomE TO OuR CountrY\n"
     ]
    }
   ],
   "source": [
    "a=\"welcome to our country\"\n",
    "b=a.split()\n",
    "l=[]\n",
    "for i in b:\n",
    "    x=i[0].upper()+i[1:-1]+i[-1].upper()\n",
    "    l.append(x)\n",
    "l=\" \".join(l)\n",
    "print(l)"
   ]
  },
  {
   "cell_type": "code",
   "execution_count": 17,
   "id": "2b1e50c9",
   "metadata": {},
   "outputs": [
    {
     "name": "stdout",
     "output_type": "stream",
     "text": [
      "True\n"
     ]
    }
   ],
   "source": [
    "a=\"welcome2ourcountry34\"\n",
    "print(a.isalnum())"
   ]
  },
  {
   "cell_type": "code",
   "execution_count": 32,
   "id": "7c5f11e6",
   "metadata": {},
   "outputs": [
    {
     "name": "stdout",
     "output_type": "stream",
     "text": [
      "No of Comman char are: {'d', 'e', 'a', 'f'}\n"
     ]
    }
   ],
   "source": [
    "str1 = 'abcdef'\n",
    "str2 = 'defghia'\n",
    "string=((set(str1)).intersection(set(str2)))\n",
    "print(\"No of Comman char are:\",string)"
   ]
  },
  {
   "cell_type": "code",
   "execution_count": 35,
   "id": "5077bbaa",
   "metadata": {},
   "outputs": [
    {
     "ename": "TypeError",
     "evalue": "must be str, not type",
     "output_type": "error",
     "traceback": [
      "\u001b[1;31m---------------------------------------------------------------------------\u001b[0m",
      "\u001b[1;31mTypeError\u001b[0m                                 Traceback (most recent call last)",
      "Cell \u001b[1;32mIn[35], line 2\u001b[0m\n\u001b[0;32m      1\u001b[0m \u001b[38;5;28mstr\u001b[39m\u001b[38;5;241m=\u001b[39m\u001b[38;5;124m\"\u001b[39m\u001b[38;5;124mGeeksforGeeks\u001b[39m\u001b[38;5;124m\"\u001b[39m\n\u001b[1;32m----> 2\u001b[0m a\u001b[38;5;241m=\u001b[39m\u001b[38;5;28;43mstr\u001b[39;49m\u001b[38;5;241;43m.\u001b[39;49m\u001b[43mcount\u001b[49m\u001b[43m(\u001b[49m\u001b[38;5;28;43mset\u001b[39;49m\u001b[43m)\u001b[49m\n\u001b[0;32m      3\u001b[0m \u001b[38;5;28mprint\u001b[39m(a)\n",
      "\u001b[1;31mTypeError\u001b[0m: must be str, not type"
     ]
    }
   ],
   "source": [
    "str=\"GeeksforGeeks\"\n",
    "vowels=\"aeiouAEIOU\""
   ]
  },
  {
   "cell_type": "code",
   "execution_count": 40,
   "id": "c6309e42",
   "metadata": {},
   "outputs": [
    {
     "name": "stdout",
     "output_type": "stream",
     "text": [
      "5\n"
     ]
    }
   ],
   "source": [
    "string = \"GeekforGeeks!\"\n",
    "vowels = \"aeiouAEIOU\"\n",
    "\n",
    "count=sum(string.count(vowel) for vowel in vowels)\n",
    "print(count)\n"
   ]
  },
  {
   "cell_type": "code",
   "execution_count": 53,
   "id": "09a5beba",
   "metadata": {},
   "outputs": [
    {
     "name": "stdout",
     "output_type": "stream",
     "text": [
      "len is: 7 srgfoek\n"
     ]
    }
   ],
   "source": [
    "a=\"geeksforgeeks\"       #geksfor\n",
    "b=(set(a))\n",
    "c=\"\".join(b)\n",
    "print(\"len is:\",len(c),c) #geksfor"
   ]
  },
  {
   "cell_type": "code",
   "execution_count": 9,
   "id": "85e843eb",
   "metadata": {},
   "outputs": [
    {
     "name": "stdout",
     "output_type": "stream",
     "text": [
      "g\n",
      "e\n",
      "e\n",
      "k\n",
      "f\n",
      "o\n",
      "r\n",
      "g\n",
      "e\n",
      "e\n",
      "k\n",
      "s\n"
     ]
    }
   ],
   "source": [
    "test = 'geekforgeeks'\n",
    "a=test.split(\" \")\n",
    "for i in test:\n",
    "    if len(i)%2!=0:\n",
    "        print(i)\n",
    "    "
   ]
  },
  {
   "cell_type": "code",
   "execution_count": 13,
   "id": "00ba4c67",
   "metadata": {},
   "outputs": [
    {
     "name": "stdout",
     "output_type": "stream",
     "text": [
      "[24, 35, 9, 56, 12]\n"
     ]
    }
   ],
   "source": [
    "a=[12, 35, 9, 56, 24]\n",
    "a[0]=24\n",
    "a[-1]=12\n",
    "print(a)"
   ]
  },
  {
   "cell_type": "code",
   "execution_count": 12,
   "id": "c98f622a",
   "metadata": {},
   "outputs": [
    {
     "name": "stdout",
     "output_type": "stream",
     "text": [
      "0 ('ram', 19)\n",
      "1 ('shyam', 21)\n",
      "2 ('rohan', 16)\n",
      "3 ('sohan', 25)\n"
     ]
    }
   ],
   "source": [
    "ls=[(\"ram\",19),(\"shyam\",21),(\"rohan\",16),(\"sohan\",25)]\n",
    "for idx,val in enumerate(ls):\n",
    "    print(idx,val)"
   ]
  },
  {
   "cell_type": "code",
   "execution_count": 14,
   "id": "7dfc3497",
   "metadata": {},
   "outputs": [
    {
     "name": "stdout",
     "output_type": "stream",
     "text": [
      "[24, 35, 9, 56, 12]\n"
     ]
    }
   ],
   "source": [
    "a=[12, 35, 9, 56, 24]\n",
    "def swap(a):\n",
    "    a[0],a[-1]=a[-1],a[0]\n",
    "    return a\n",
    "print(swap(a))\n"
   ]
  },
  {
   "cell_type": "code",
   "execution_count": 15,
   "id": "d9d6abbd",
   "metadata": {},
   "outputs": [
    {
     "name": "stdout",
     "output_type": "stream",
     "text": [
      "[19, 65, 23, 90]\n"
     ]
    }
   ],
   "source": [
    " List = [23, 65, 19, 90]\n",
    "List[0],List[2]=List[2],List[0]\n",
    "print(List)"
   ]
  },
  {
   "cell_type": "code",
   "execution_count": 21,
   "id": "4f75d1c6",
   "metadata": {},
   "outputs": [
    {
     "name": "stdout",
     "output_type": "stream",
     "text": [
      "['Gfg', 'Geeks', 'best', 'for', 'is']\n"
     ]
    }
   ],
   "source": [
    "List = ['Gfg', 'is', 'best', 'for', 'Geeks']\n",
    "List[1],List[4]=List[4],List[1]\n",
    "print(List)"
   ]
  },
  {
   "cell_type": "code",
   "execution_count": 29,
   "id": "fe880dd5",
   "metadata": {},
   "outputs": [
    {
     "name": "stdout",
     "output_type": "stream",
     "text": [
      "['ofg', 'is', 'bGse', 'for', 'oGGks']\n"
     ]
    }
   ],
   "source": [
    "List = ['Gfg', 'is', 'best', 'for', 'Geeks']\n",
    "# a=[sub.replace(\"G\",\"i\") for sub in List]\n",
    "a = [sub.replace('G', 'o').replace('e', 'G').replace('t', 'e') for sub in List]\n",
    "print(a)"
   ]
  },
  {
   "cell_type": "code",
   "execution_count": 30,
   "id": "8f57572f",
   "metadata": {},
   "outputs": [
    {
     "name": "stdout",
     "output_type": "stream",
     "text": [
      "4\n"
     ]
    }
   ],
   "source": [
    "lst = [10,20,30,40]\n",
    "print(len(lst))"
   ]
  },
  {
   "cell_type": "code",
   "execution_count": 31,
   "id": "b3da9118",
   "metadata": {},
   "outputs": [
    {
     "name": "stdout",
     "output_type": "stream",
     "text": [
      "b is greater: 4\n"
     ]
    }
   ],
   "source": [
    "a = 2\n",
    "b = 4\n",
    "if a>b:\n",
    "    print(\"a is Greater:\",a)\n",
    "else:\n",
    "    print(\"b is greater:\",b)"
   ]
  },
  {
   "cell_type": "code",
   "execution_count": 33,
   "id": "4953ff0f",
   "metadata": {},
   "outputs": [
    {
     "name": "stdout",
     "output_type": "stream",
     "text": [
      "a is Greater: -1\n"
     ]
    }
   ],
   "source": [
    "a = -1\n",
    "b = -4\n",
    "if a>b:\n",
    "    print(\"a is Greater:\",a)\n",
    "else:\n",
    "    print(\"b is greater:\",b)"
   ]
  },
  {
   "cell_type": "code",
   "execution_count": 49,
   "id": "1ba603b7",
   "metadata": {},
   "outputs": [
    {
     "name": "stdout",
     "output_type": "stream",
     "text": [
      "At idx: 1 = 6 Exit\n"
     ]
    }
   ],
   "source": [
    "list = [1, 6, 3, 5, 3, 4]\n",
    "for idx,i in enumerate(list):\n",
    "    if (i==6):\n",
    "        print(\"At idx:\",idx,\"=\",i,\"Exit\")\n",
    "    "
   ]
  },
  {
   "cell_type": "code",
   "execution_count": 50,
   "id": "8e957612",
   "metadata": {},
   "outputs": [
    {
     "name": "stdout",
     "output_type": "stream",
     "text": [
      "None\n"
     ]
    }
   ],
   "source": [
    "a=[2, 3, 5, 6, 7]\n",
    "print(a.clear())"
   ]
  },
  {
   "cell_type": "code",
   "execution_count": 2,
   "id": "6a48de0c",
   "metadata": {},
   "outputs": [
    {
     "name": "stdout",
     "output_type": "stream",
     "text": [
      "[9, 8, 7, 6, 5, 4]\n"
     ]
    }
   ],
   "source": [
    "list = [4, 5, 6, 7, 8, 9]\n",
    "list.reverse()\n",
    "print(list)"
   ]
  },
  {
   "cell_type": "code",
   "execution_count": 3,
   "id": "d5b0deaf",
   "metadata": {},
   "outputs": [
    {
     "name": "stdout",
     "output_type": "stream",
     "text": [
      "[4, 5, 6, 7, 8, 9]\n"
     ]
    }
   ],
   "source": [
    "list = [4, 5, 6, 7, 8, 9]\n",
    "list2=list.copy()\n",
    "print(list2)"
   ]
  },
  {
   "cell_type": "code",
   "execution_count": 4,
   "id": "6892db2d",
   "metadata": {},
   "outputs": [
    {
     "name": "stdout",
     "output_type": "stream",
     "text": [
      "3\n"
     ]
    }
   ],
   "source": [
    "lst = [15, 6, 7, 10, 12, 20, 10, 28, 10]\n",
    "print(lst.count(10))\n"
   ]
  },
  {
   "cell_type": "code",
   "execution_count": 6,
   "id": "7095398a",
   "metadata": {},
   "outputs": [
    {
     "name": "stdout",
     "output_type": "stream",
     "text": [
      "8\n",
      "None\n"
     ]
    }
   ],
   "source": [
    "a=[4, 5, 1, 2, 9, 7, 10, 8]\n",
    "def add(n):\n",
    "    sum=0\n",
    "    for i in a:\n",
    "        sum+=i\n",
    "    print(i)\n",
    "print(add(a))"
   ]
  },
  {
   "cell_type": "code",
   "execution_count": 12,
   "id": "765df0fb",
   "metadata": {},
   "outputs": [
    {
     "name": "stdout",
     "output_type": "stream",
     "text": [
      "46 5.75\n"
     ]
    }
   ],
   "source": [
    "a=[4, 5, 1, 2, 9, 7, 10, 8]\n",
    "b=sum(a)\n",
    "c=sum(a)/len(a)\n",
    "print(b,c)"
   ]
  },
  {
   "cell_type": "code",
   "execution_count": 15,
   "id": "06ab39b0",
   "metadata": {},
   "outputs": [
    {
     "name": "stdout",
     "output_type": "stream",
     "text": [
      "[12, 79, 177, 211]\n"
     ]
    }
   ],
   "source": [
    "list = [12, 67, 98, 34]\n",
    "l=[]\n",
    "sum=0\n",
    "for i in list:\n",
    "    sum+=i\n",
    "    l.append(sum)\n",
    "print(l)"
   ]
  },
  {
   "cell_type": "code",
   "execution_count": 24,
   "id": "b28a079e",
   "metadata": {},
   "outputs": [
    {
     "name": "stdout",
     "output_type": "stream",
     "text": [
      "6\n"
     ]
    }
   ],
   "source": [
    "from functools import reduce\n",
    "list1 = [1, 2, 3]\n",
    "a=reduce((lambda x,y:x*y),list1)\n",
    "print(a)"
   ]
  },
  {
   "cell_type": "code",
   "execution_count": 26,
   "id": "2f5dfa88",
   "metadata": {},
   "outputs": [
    {
     "name": "stdout",
     "output_type": "stream",
     "text": [
      "24\n"
     ]
    }
   ],
   "source": [
    "list1 = [3, 2, 4]\n",
    "from functools import reduce\n",
    "a=reduce((lambda x,y:x*y),list1)\n",
    "print(a)"
   ]
  },
  {
   "cell_type": "code",
   "execution_count": 10,
   "id": "64d68010",
   "metadata": {},
   "outputs": [
    {
     "name": "stdout",
     "output_type": "stream",
     "text": [
      "[1, 10, 20, 20, 100]\n",
      "smallest no is: 1\n"
     ]
    }
   ],
   "source": [
    "list2 = [20, 10, 20, 1, 100]\n",
    "list2.sort()\n",
    "print(list2)\n",
    "print(\"smallest no is:\",list2[0])"
   ]
  },
  {
   "cell_type": "code",
   "execution_count": 11,
   "id": "22388e8c",
   "metadata": {},
   "outputs": [
    {
     "name": "stdout",
     "output_type": "stream",
     "text": [
      "[100, 20, 20, 10, 1]\n",
      "Largest no is:- 100\n"
     ]
    }
   ],
   "source": [
    "list2 = [20, 10, 20, 1, 100]\n",
    "list2.sort(reverse=True)\n",
    "print(list2)\n",
    "print(\"Largest no is:-\",list2[0])"
   ]
  },
  {
   "cell_type": "code",
   "execution_count": 2,
   "id": "7bdc7c6c",
   "metadata": {},
   "outputs": [
    {
     "name": "stdout",
     "output_type": "stream",
     "text": [
      "[100, 20, 10, 1]\n"
     ]
    }
   ],
   "source": [
    "list1 = [20, 10, 20, 1, 100]\n",
    "a=list(set(list1))  #list2 = list(set(list1))\n",
    "a.sort(reverse=True)\n",
    "print(a)\n",
    "# print(\"2nd largest no is:-\",list2[1])"
   ]
  },
  {
   "cell_type": "code",
   "execution_count": 20,
   "id": "160d6ba6",
   "metadata": {},
   "outputs": [
    {
     "name": "stdout",
     "output_type": "stream",
     "text": [
      "Even [2, 64, 14]\n"
     ]
    }
   ],
   "source": [
    "list1 = [2, 7, 5, 64, 14]\n",
    "l=[]\n",
    "for i in list1:\n",
    "    if (i%2==0):\n",
    "        l.append(i)\n",
    "print(\"Even\",l)"
   ]
  },
  {
   "cell_type": "code",
   "execution_count": 26,
   "id": "3e8d0b27",
   "metadata": {},
   "outputs": [
    {
     "name": "stdout",
     "output_type": "stream",
     "text": [
      "[2, 64, 14]\n"
     ]
    }
   ],
   "source": [
    "list1 = [2, 7, 5, 64, 14]\n",
    "even=list(filter(lambda x:(x%2==0),list1) )   #list(filter(lambda x: (x % 2 == 0), list1))\n",
    "print(even)"
   ]
  },
  {
   "cell_type": "code",
   "execution_count": 28,
   "id": "07638517",
   "metadata": {},
   "outputs": [
    {
     "name": "stdout",
     "output_type": "stream",
     "text": [
      "[7, 5]\n"
     ]
    }
   ],
   "source": [
    "list1 = [2, 7, 5, 64, 14]\n",
    "odd=list(filter(lambda x:(x%2!=0),list1))\n",
    "print(odd)"
   ]
  },
  {
   "cell_type": "code",
   "execution_count": 32,
   "id": "cf6b524f",
   "metadata": {},
   "outputs": [
    {
     "name": "stdout",
     "output_type": "stream",
     "text": [
      "[5, 7, 9, 11, 13, 15]\n"
     ]
    }
   ],
   "source": [
    "l=[]\n",
    "for i in range(4,16):\n",
    "     if (i%2!=0):\n",
    "        l.append(i)\n",
    "print(l)"
   ]
  },
  {
   "cell_type": "code",
   "execution_count": 38,
   "id": "32d57bdf",
   "metadata": {},
   "outputs": [
    {
     "name": "stdout",
     "output_type": "stream",
     "text": [
      "Count of even no: 3\n",
      "Count of odd no: 2\n"
     ]
    }
   ],
   "source": [
    "list1 = [2, 7, 5, 64, 14]\n",
    "even=0\n",
    "odd=0\n",
    "for i in list1:\n",
    "    if i%2==0:\n",
    "        even+=1\n",
    "    else:\n",
    "        odd+=1\n",
    "print(\"Count of even no:\",even)\n",
    "print(\"Count of odd no:\" ,odd)"
   ]
  },
  {
   "cell_type": "code",
   "execution_count": 47,
   "id": "5f0e79dd",
   "metadata": {},
   "outputs": [
    {
     "name": "stdout",
     "output_type": "stream",
     "text": [
      "Postive No. :- [12, 5, 64]\n"
     ]
    }
   ],
   "source": [
    "list1 = [12, -7, 5, 64, -14]\n",
    "l=[]\n",
    "for i in list1:\n",
    "    if i>=0:\n",
    "        l.append(i) \n",
    "\n",
    "print(\"Postive No. :-\",l)"
   ]
  },
  {
   "cell_type": "code",
   "execution_count": 46,
   "id": "b8624e7a",
   "metadata": {},
   "outputs": [
    {
     "name": "stdout",
     "output_type": "stream",
     "text": [
      "Negative No. :- [-7, -14]\n"
     ]
    }
   ],
   "source": [
    "list1 = [12, -7, 5, 64, -14]\n",
    "l=[]\n",
    "for i in list1:\n",
    "    if i<=0:\n",
    "        l.append(i) \n",
    "\n",
    "print(\"Negative No. :-\",l)"
   ]
  },
  {
   "cell_type": "code",
   "execution_count": 44,
   "id": "06f7fe0a",
   "metadata": {},
   "outputs": [
    {
     "name": "stdout",
     "output_type": "stream",
     "text": [
      "Postive No. :- [0, 1, 2, 3, 4, 5]\n"
     ]
    }
   ],
   "source": [
    "# list1 = [12, -7, 5, 64, -14]\n",
    "l=[]\n",
    "for i in range(-4,6):\n",
    "    if i>=0:\n",
    "        l.append(i) \n",
    "\n",
    "print(\"Postive No. :-\",l)"
   ]
  },
  {
   "cell_type": "code",
   "execution_count": 48,
   "id": "7ad3ecc5",
   "metadata": {},
   "outputs": [
    {
     "name": "stdout",
     "output_type": "stream",
     "text": [
      "Count of Postive no :- 2\n",
      "Count of Negative no :- 3\n"
     ]
    }
   ],
   "source": [
    "list1 = [2, -7, 5, -64, -14]\n",
    "pos=0\n",
    "neg=0\n",
    "for i in list1:\n",
    "    if i>=0:\n",
    "        pos+=1\n",
    "    else:\n",
    "        neg+=1\n",
    "print(\"Count of Postive no :-\",pos)\n",
    "print(\"Count of Negative no :-\",neg)"
   ]
  },
  {
   "cell_type": "code",
   "execution_count": 51,
   "id": "d1bdb17b",
   "metadata": {},
   "outputs": [
    {
     "name": "stdout",
     "output_type": "stream",
     "text": [
      "[11, 5, 17, 23]\n"
     ]
    }
   ],
   "source": [
    "list1 = [11, 5, 17, 18, 23, 50] \n",
    "\n",
    "for i in list1:\n",
    "    if i%2==0:\n",
    "        list1.remove(i)\n",
    "print(list1)"
   ]
  },
  {
   "cell_type": "code",
   "execution_count": 65,
   "id": "ec8335ca",
   "metadata": {},
   "outputs": [
    {
     "name": "stdout",
     "output_type": "stream",
     "text": [
      "[('ram', '15', '8'), ('laxman', 'sita'), ('krishna', 'akbar', '45'), ('', '')]\n"
     ]
    }
   ],
   "source": [
    "tuples =  [(), ('ram','15','8'), (), ('laxman', 'sita'), \n",
    "          ('krishna', 'akbar', '45'), ('',''),()]\n",
    "t=[]\n",
    "for i in tuples:\n",
    "    if i:\n",
    "        t.append(i)\n",
    "print(t)"
   ]
  },
  {
   "cell_type": "code",
   "execution_count": 63,
   "id": "91594739",
   "metadata": {},
   "outputs": [
    {
     "name": "stdout",
     "output_type": "stream",
     "text": [
      "[('',), ('a', 'b'), ('a', 'b', 'c'), 'd']\n"
     ]
    }
   ],
   "source": [
    "l = [(), (), ('',), ('a', 'b'), ('a', 'b', 'c'), ('d')]\n",
    "b=[]\n",
    "for i in l:\n",
    "    if i:\n",
    "        b.append(i)\n",
    "print(b)"
   ]
  },
  {
   "cell_type": "code",
   "execution_count": 69,
   "id": "0c160f92",
   "metadata": {},
   "outputs": [
    {
     "name": "stdout",
     "output_type": "stream",
     "text": [
      "[(), ('',), ('a', 'b'), ('a', 'b', 'c'), 'd']\n"
     ]
    }
   ],
   "source": [
    "l = [(), (), ('',), ('a', 'b'), ('a', 'b', 'c'), 'd']\n",
    "\n",
    "for i in l:\n",
    "    if not i:\n",
    "        l.remove(i)\n",
    "\n",
    "print(l)"
   ]
  },
  {
   "cell_type": "code",
   "execution_count": 5,
   "id": "df5ff1bd",
   "metadata": {},
   "outputs": [
    {
     "name": "stdout",
     "output_type": "stream",
     "text": [
      "[10, 20, 30, 40, 50, -20, 60]\n"
     ]
    }
   ],
   "source": [
    "list1 = [10, 20, 30, 20, 20, 30, 40, 50, -20, 60, 60, -20, -20]\n",
    "a=[]\n",
    "for i in list1:\n",
    "    if i not in a:\n",
    "        a.append(i)\n",
    "print(a)"
   ]
  },
  {
   "cell_type": "code",
   "execution_count": null,
   "id": "8039aa62",
   "metadata": {},
   "outputs": [],
   "source": []
  },
  {
   "cell_type": "code",
   "execution_count": null,
   "id": "1586c27d",
   "metadata": {},
   "outputs": [],
   "source": []
  },
  {
   "cell_type": "code",
   "execution_count": 34,
   "id": "94de3d7f",
   "metadata": {},
   "outputs": [
    {
     "name": "stdout",
     "output_type": "stream",
     "text": [
      "The orignal list [(6, 24, 12), (7, 9, 6), (12, 18, 21)]\n",
      "[(6, 24, 12)]\n"
     ]
    }
   ],
   "source": [
    "test = [(6, 24, 12), (7, 9, 6), (12, 18, 21)]\n",
    "t=[]\n",
    "print(\"The orignal list\",test)\n",
    "k=6\n",
    "for i in test:\n",
    "    if all(j%k==0 for j in i):\n",
    "        t.append(i)\n",
    "print(t)"
   ]
  },
  {
   "cell_type": "code",
   "execution_count": 32,
   "id": "acf2b3fe",
   "metadata": {},
   "outputs": [
    {
     "name": "stdout",
     "output_type": "stream",
     "text": [
      "[(4, 5, 9)]\n"
     ]
    }
   ],
   "source": [
    "test_list = [(4, 5, 9), (-3, 2, 3), (-3, 5, 6), (4, -6)] \n",
    "t=[]\n",
    "for i in test_list:\n",
    "    if all(j>0 for j in i):\n",
    "        t.append(i)\n",
    "print(t)\n"
   ]
  },
  {
   "cell_type": "code",
   "execution_count": 35,
   "id": "9b992ff0",
   "metadata": {},
   "outputs": [
    {
     "name": "stdout",
     "output_type": "stream",
     "text": [
      "(1, 2, 3, 5)\n"
     ]
    }
   ],
   "source": [
    "test_tup = (1, 3, 5, 2, 3, 5, 1, 1, 3)\n",
    "t=tuple(set(test_tup))\n",
    "print(t)"
   ]
  },
  {
   "cell_type": "code",
   "execution_count": 44,
   "id": "012c6152",
   "metadata": {},
   "outputs": [
    {
     "name": "stdout",
     "output_type": "stream",
     "text": [
      "[[4, 7, 8], [1, 2, 3], [9, 10, 11]]\n"
     ]
    }
   ],
   "source": [
    "test_tup = ([4, 7, 8], [1, 2, 3], [4, 7, 8], [9, 10, 11], [1, 2, 3])\n",
    "t=[]\n",
    "for i in test_tup:\n",
    "    if all(i not in t for j in i ):\n",
    "        t.append(i)\n",
    "print(t)"
   ]
  },
  {
   "cell_type": "code",
   "execution_count": 55,
   "id": "0a696b40",
   "metadata": {},
   "outputs": [
    {
     "name": "stdout",
     "output_type": "stream",
     "text": [
      "15 (15, 3)\n",
      "3 (15, 3)\n",
      "3 (3, 9)\n",
      "9 (3, 9)\n"
     ]
    }
   ],
   "source": [
    "test_list = [(15, 3), (3, 9)] \n",
    "# Output : [9, 5, 3, 1]\n",
    "for i in test_list:\n",
    "    for j in i:\n",
    "        print(j,i)\n",
    "        "
   ]
  },
  {
   "cell_type": "code",
   "execution_count": 49,
   "id": "166e7444",
   "metadata": {},
   "outputs": [
    {
     "name": "stdout",
     "output_type": "stream",
     "text": [
      "its similar\n"
     ]
    }
   ],
   "source": [
    "test_list1 = [(10, 4), (2, 5)] \n",
    "test_list2 = [(10, 4), (2, 5)] \n",
    "if test_list1==test_list2:\n",
    "    print(\"its similar\")\n",
    "else:\n",
    "    print(\"not smillar\")"
   ]
  },
  {
   "cell_type": "code",
   "execution_count": 66,
   "id": "31c4c52b",
   "metadata": {},
   "outputs": [
    {
     "name": "stdout",
     "output_type": "stream",
     "text": [
      "88 Bytes\n"
     ]
    }
   ],
   "source": [
    "Tuple1 = (\"A\", 1, \"B\", 2, \"C\", 3)\n",
    "import sys\n",
    "print(sys.getsizeof(Tuple1),\"Bytes\")"
   ]
  },
  {
   "cell_type": "code",
   "execution_count": 65,
   "id": "ce80fe77",
   "metadata": {},
   "outputs": [
    {
     "name": "stdout",
     "output_type": "stream",
     "text": [
      "72 Bytes\n"
     ]
    }
   ],
   "source": [
    "Tuple1 = (\"A\", 1, \"B\", 2, \"C\", 3)\n",
    "print(Tuple1.__sizeof__(),\"Bytes\")"
   ]
  },
  {
   "cell_type": "code",
   "execution_count": 8,
   "id": "36247cc0",
   "metadata": {},
   "outputs": [
    {
     "name": "stdout",
     "output_type": "stream",
     "text": [
      "(1, 3, 9, 18)\n"
     ]
    }
   ],
   "source": [
    "tup = (3, 7, 1, 18, 9)\n",
    "k = 2 \n",
    "#Output : (3, 1, 9, 18)\n",
    "\n",
    "tup=list(tup)\n",
    "temp = sorted(tup)\n",
    "a=tuple(temp[:k] + temp[-k:])\n",
    "print(a)\n"
   ]
  },
  {
   "cell_type": "code",
   "execution_count": 18,
   "id": "61c05f9e",
   "metadata": {},
   "outputs": [
    {
     "name": "stdout",
     "output_type": "stream",
     "text": [
      "49\n"
     ]
    }
   ],
   "source": [
    "test_tup = (5, 20, 3, 7, 6, 8)\n",
    "t=0\n",
    "for i in test_tup:\n",
    "    t+=i\n",
    "print(t)\n",
    "    \n",
    "   # res = [[(idx, val) for idx in key] for key,  val in zip(test_list, cus_eles)]"
   ]
  },
  {
   "cell_type": "code",
   "execution_count": 28,
   "id": "c9167a0f",
   "metadata": {},
   "outputs": [
    {
     "name": "stdout",
     "output_type": "stream",
     "text": [
      "[[(('Gfg', 3), 6), (('is', 3), 6)], [(('best', 1), 7)], [(('for', 5), 8), (('geeks', 1), 8)]]\n",
      "[[(('Gfg', 3), 6), (('is', 3), 6)], [(('best', 1), 7)], [(('for', 5), 8), (('geeks', 1), 8)]]\n"
     ]
    }
   ],
   "source": [
    "test_list = [[('Gfg', 3), ('is', 3)], [('best', 1)], [('for', 5), ('geeks', 1)]]\n",
    "cus_eles = [6, 7, 8]\n",
    "s=[[(idx,val) for idx in key] for key,val in zip(test_list,cus_eles)]\n",
    "print(s)\n",
    "# s=list(zip(test_list,cus_eles))\n",
    "print(s)"
   ]
  },
  {
   "cell_type": "code",
   "execution_count": 40,
   "id": "97677490",
   "metadata": {},
   "outputs": [
    {
     "name": "stdout",
     "output_type": "stream",
     "text": [
      "[(1, 1), (2, 8), (3, 27)]\n"
     ]
    }
   ],
   "source": [
    "list = [1, 2, 3]\n",
    "# Output: [(1, 1), (2, 8), (3, 27)]\n",
    "t=[]\n",
    "for i in list:\n",
    "    a=(i,i**3)\n",
    "    t.append(a)\n",
    "print(t)"
   ]
  },
  {
   "cell_type": "code",
   "execution_count": 1,
   "id": "54c6379a",
   "metadata": {},
   "outputs": [
    {
     "name": "stdout",
     "output_type": "stream",
     "text": [
      "The original list is : [5, 6, 7]\n",
      "[5, 6, 7, 9, 10]\n"
     ]
    }
   ],
   "source": [
    "test_list = [5, 6, 7]\n",
    "\n",
    "# printing original list\n",
    "print(\"The original list is : \" + str(test_list))\n",
    "\n",
    "# initializing tuple \n",
    "test_tup = (9, 10)\n",
    "\n",
    "a=test_list+list(test_tup)\n",
    "print(a)"
   ]
  },
  {
   "cell_type": "code",
   "execution_count": 7,
   "id": "cacb0e1d",
   "metadata": {},
   "outputs": [
    {
     "name": "stdout",
     "output_type": "stream",
     "text": [
      "(0, 4, 5, 1)\n"
     ]
    }
   ],
   "source": [
    "test_tup1 = (10, 4, 5, 6)\n",
    "test_tup2 = (5, 6, 7, 5)\n",
    "t=[]\n",
    "for i in range(0,len(test_tup1)):\n",
    "    a=test_tup1[i]%test_tup2[i]\n",
    "    t.append(a)\n",
    "print(tuple(t))"
   ]
  },
  {
   "cell_type": "code",
   "execution_count": 24,
   "id": "e3eaa247",
   "metadata": {},
   "outputs": [
    {
     "name": "stdout",
     "output_type": "stream",
     "text": [
      "[(5, 7, 8), (6, 8, 10), (7, 12, 5)]\n"
     ]
    }
   ],
   "source": [
    "test_list = [(1, 3, 4), (2, 4, 6), (3, 8, 1)]\n",
    "k=4\n",
    "\n",
    "t = [tuple(j + k for j in i ) for i in test_list]\n",
    "print(t)\n",
    "        \n",
    "            "
   ]
  },
  {
   "cell_type": "code",
   "execution_count": 38,
   "id": "11208a29",
   "metadata": {},
   "outputs": [
    {
     "name": "stdout",
     "output_type": "stream",
     "text": [
      "(5, 35, 56, 80)\n"
     ]
    }
   ],
   "source": [
    "test_tup = (1, 5, 7, 8, 10)\n",
    "a=list(test_tup)\n",
    "t=[]\n",
    "mul=1\n",
    "for i in a:\n",
    "    mul*=i\n",
    "    t.append(mul)\n",
    "t=tuple(i*j for i,j in zip(test_tup,test_tup[1:]))\n",
    "print(t)\n",
    "    "
   ]
  },
  {
   "cell_type": "code",
   "execution_count": 37,
   "id": "fe8b6dfd",
   "metadata": {},
   "outputs": [
    {
     "ename": "SyntaxError",
     "evalue": "invalid syntax (858071714.py, line 9)",
     "output_type": "error",
     "traceback": [
      "\u001b[1;36m  Cell \u001b[1;32mIn[37], line 9\u001b[1;36m\u001b[0m\n\u001b[1;33m    The original tuple : (1, 5, 7, 8, 10)\u001b[0m\n\u001b[1;37m        ^\u001b[0m\n\u001b[1;31mSyntaxError\u001b[0m\u001b[1;31m:\u001b[0m invalid syntax\n"
     ]
    }
   ],
   "source": [
    "list = [12, 67, 98, 34]\n",
    "l=[]\n",
    "sum=0\n",
    "for i in list:\n",
    "    sum+=i\n",
    "    l.append(sum)\n",
    "print(l)\n",
    "res = tuple(i * j for i, j in zip(test_tup, test_tup[1:])) \n",
    "The original tuple : (1, 5, 7, 8, 10)\n",
    "Resultant tuple after multiplication : (5, 35, 56, 80)\n"
   ]
  },
  {
   "cell_type": "code",
   "execution_count": 1,
   "id": "6374d6f6",
   "metadata": {},
   "outputs": [
    {
     "name": "stdout",
     "output_type": "stream",
     "text": [
      "[[5, 6, 7], [5, 6, 7], [5, 6, 7], [5, 6, 7], [5, 6, 7], [6, 8, 10], [6, 8, 10], [6, 8, 10], [6, 8, 10], [6, 8, 10], [7, 13], [7, 13], [7, 13], [7, 13], [7, 13]]\n"
     ]
    }
   ],
   "source": [
    "test = [(5, 6), (5, 7), (6, 8), (6, 10), (7, 13)]\n",
    "t=[]\n",
    "x=[]\n",
    "for i in test:\n",
    "    if i[0] not in t:\n",
    "        t.append(i[0])\n",
    "\n",
    "for i in t:\n",
    "    p=[]\n",
    "    p.append(i)\n",
    "    for j in test:\n",
    "        if i==j[0]:\n",
    "            p.append(j[1])\n",
    "        x.append(p)\n",
    "print(x)"
   ]
  },
  {
   "cell_type": "code",
   "execution_count": 6,
   "id": "d1a5919b",
   "metadata": {},
   "outputs": [
    {
     "name": "stdout",
     "output_type": "stream",
     "text": [
      "[(7, 7), (7, 8), (2, 7), (2, 8), (7, 7), (7, 2), (8, 7), (8, 2)]\n"
     ]
    }
   ],
   "source": [
    "test_tuple1 = (7, 2)\n",
    "\n",
    "test_tuple2 = (7, 8)\n",
    "\n",
    "x=[(a,b) for a in test_tuple1 for b in test_tuple2]\n",
    "\n",
    "y=x+[(a,b) for a in test_tuple2 for b in test_tuple1]\n",
    "print(y)\n",
    "\n",
    "\n",
    "# Output : [(7, 7), (7, 8), (2, 7), (2, 8), (7, 7), (7, 2), (8, 7), (8, 2)] "
   ]
  },
  {
   "cell_type": "code",
   "execution_count": 15,
   "id": "f141e381",
   "metadata": {},
   "outputs": [
    {
     "name": "stdout",
     "output_type": "stream",
     "text": [
      "[(4, 5), (4,), (1,), (3, 4, 6, 7)]\n"
     ]
    }
   ],
   "source": [
    "test_list = [(4, 5), (4, ), (8, 6, 7), (1, ), (3, 4, 6, 7)]\n",
    "K = 3 \n",
    "#Output : [(4, ), (8, 6, 7), (1, ), (3, 4, 6, 7)] \n",
    "y=[]\n",
    "for i in test_list:\n",
    "    if len(i)!=K:\n",
    "        y.append(i)\n",
    "        \n",
    "print(y)"
   ]
  },
  {
   "cell_type": "code",
   "execution_count": 16,
   "id": "34daf82a",
   "metadata": {},
   "outputs": [
    {
     "name": "stdout",
     "output_type": "stream",
     "text": [
      "[(4, 5), (4,), (1,), (3, 4, 6, 7)]\n"
     ]
    }
   ],
   "source": [
    "test_list = [(4, 5), (4, ), (8, 6, 7), (1, ), (3, 4, 6, 7)]\n",
    "K = 3 \n",
    "res = [ele for ele in test_list if len(ele) != K]\n",
    "print(res)"
   ]
  },
  {
   "cell_type": "code",
   "execution_count": 23,
   "id": "157cdc5d",
   "metadata": {},
   "outputs": [
    {
     "ename": "TypeError",
     "evalue": "'bool' object is not iterable",
     "output_type": "error",
     "traceback": [
      "\u001b[1;31m---------------------------------------------------------------------------\u001b[0m",
      "\u001b[1;31mTypeError\u001b[0m                                 Traceback (most recent call last)",
      "Cell \u001b[1;32mIn[23], line 5\u001b[0m\n\u001b[0;32m      3\u001b[0m a\u001b[38;5;241m=\u001b[39m[]\n\u001b[0;32m      4\u001b[0m \u001b[38;5;28;01mfor\u001b[39;00m i \u001b[38;5;129;01min\u001b[39;00m test_list:\n\u001b[1;32m----> 5\u001b[0m     \u001b[38;5;28;01mif\u001b[39;00m \u001b[38;5;28;43mall\u001b[39;49m\u001b[43m \u001b[49m\u001b[43m(\u001b[49m\u001b[43mi\u001b[49m\u001b[38;5;241;43m!=\u001b[39;49m\u001b[43m \u001b[49m\u001b[38;5;28;43;01mNone\u001b[39;49;00m\u001b[43m)\u001b[49m:\n\u001b[0;32m      6\u001b[0m         a\u001b[38;5;241m.\u001b[39mappend(i)\n\u001b[0;32m      7\u001b[0m \u001b[38;5;28mprint\u001b[39m(a)\n",
      "\u001b[1;31mTypeError\u001b[0m: 'bool' object is not iterable"
     ]
    }
   ],
   "source": [
    "test_list = [(None, 2), (None, None), (3, 4), (12, 3), (None, )] \n",
    "#Output : [(None, 2), (3, 4), (12, 3)] \n",
    "a=[]\n",
    "for i in test_list:\n",
    "    if :\n",
    "        a.append(i)\n",
    "print(a)    # res=[i for i in test_list if not all(j==None for j in i)]\n",
    "# print(res)"
   ]
  },
  {
   "cell_type": "code",
   "execution_count": 33,
   "id": "4d20dfd0",
   "metadata": {},
   "outputs": [
    {
     "name": "stdout",
     "output_type": "stream",
     "text": [
      "{'rajnish': 9, 'ravi': 10, 'sanjeev': 15, 'suraj': 32, 'yash': 2}\n"
     ]
    }
   ],
   "source": [
    "myDict = {'ravi': 10, 'rajnish': 9,\n",
    "        'sanjeev': 15, 'yash': 2, 'suraj': 32}\n",
    "keys=list(myDict.keys())\n",
    "keys.sort()\n",
    "sotred={i:myDict[i] for i in keys}\n",
    "print(sotred)"
   ]
  },
  {
   "cell_type": "code",
   "execution_count": 32,
   "id": "3b9f41c5",
   "metadata": {},
   "outputs": [
    {
     "name": "stdout",
     "output_type": "stream",
     "text": [
      "{'rajnish': 9, 'ravi': 10, 'sanjeev': 15, 'suraj': 32, 'yash': 2}\n"
     ]
    }
   ],
   "source": [
    "myDict = {'ravi': 10, 'rajnish': 9,\n",
    "\t\t'sanjeev': 15, 'yash': 2, 'suraj': 32}\n",
    "\n",
    "myKeys = list(myDict.keys())\n",
    "myKeys.sort()\n",
    "sorted_dict = {i: myDict[i] for i in myKeys}\n",
    "\n",
    "print(sorted_dict)\n"
   ]
  },
  {
   "cell_type": "code",
   "execution_count": 35,
   "id": "a3408cb1",
   "metadata": {},
   "outputs": [
    {
     "ename": "KeyError",
     "evalue": "'c'",
     "output_type": "error",
     "traceback": [
      "\u001b[1;31m---------------------------------------------------------------------------\u001b[0m",
      "\u001b[1;31mKeyError\u001b[0m                                  Traceback (most recent call last)",
      "Cell \u001b[1;32mIn[35], line 2\u001b[0m\n\u001b[0;32m      1\u001b[0m d \u001b[38;5;241m=\u001b[39m { \u001b[38;5;124m'\u001b[39m\u001b[38;5;124ma\u001b[39m\u001b[38;5;124m'\u001b[39m : \u001b[38;5;241m1\u001b[39m , \u001b[38;5;124m'\u001b[39m\u001b[38;5;124mb\u001b[39m\u001b[38;5;124m'\u001b[39m : \u001b[38;5;241m2\u001b[39m }\n\u001b[1;32m----> 2\u001b[0m \u001b[38;5;28mprint\u001b[39m(\u001b[43md\u001b[49m\u001b[43m[\u001b[49m\u001b[38;5;124;43m\"\u001b[39;49m\u001b[38;5;124;43mc\u001b[39;49m\u001b[38;5;124;43m\"\u001b[39;49m\u001b[43m]\u001b[49m)\n",
      "\u001b[1;31mKeyError\u001b[0m: 'c'"
     ]
    }
   ],
   "source": [
    "d = { 'a' : 1 , 'b' : 2 }\n",
    "print(d[\"c\"])"
   ]
  },
  {
   "cell_type": "code",
   "execution_count": 41,
   "id": "4d18e11e",
   "metadata": {},
   "outputs": [
    {
     "name": "stdout",
     "output_type": "stream",
     "text": [
      "600\n"
     ]
    }
   ],
   "source": [
    "dict={'a': 100, 'b':200, 'c':300}\n",
    "def returnSum(dict):\n",
    "    return sum(dict.values())\n",
    "\n",
    "print( returnSum(dict))"
   ]
  },
  {
   "cell_type": "code",
   "execution_count": 45,
   "id": "1981385d",
   "metadata": {},
   "outputs": [
    {
     "name": "stdout",
     "output_type": "stream",
     "text": [
      "216 Bytes\n"
     ]
    }
   ],
   "source": [
    "dic1 = {\"A\": 1, \"B\": 2, \"C\": 3}\n",
    "s=dic1.__sizeof__()\n",
    "print(s,\"Bytes\")"
   ]
  },
  {
   "cell_type": "code",
   "execution_count": 49,
   "id": "78d38f79",
   "metadata": {},
   "outputs": [
    {
     "name": "stdout",
     "output_type": "stream",
     "text": [
      "456 Bytes\n"
     ]
    }
   ],
   "source": [
    "Set1 = {\"A\", 1, \"B\", 2, \"C\", 3}\n",
    "s=Set1.__sizeof__()\n",
    "print(s,\"Bytes\")"
   ]
  },
  {
   "cell_type": "code",
   "execution_count": 50,
   "id": "5d68a4ef",
   "metadata": {},
   "outputs": [
    {
     "name": "stdout",
     "output_type": "stream",
     "text": [
      "E\n",
      "g\n",
      "k\n",
      "s\n",
      "e\n"
     ]
    }
   ],
   "source": [
    "test_set = set(\"geEks\")\n",
    "for i in test_set:\n",
    "    print(i)"
   ]
  },
  {
   "cell_type": "code",
   "execution_count": 52,
   "id": "f47e834f",
   "metadata": {},
   "outputs": [
    {
     "name": "stdout",
     "output_type": "stream",
     "text": [
      "65\n"
     ]
    }
   ],
   "source": [
    "set = ([8, 16, 24, 1, 25, 3, 10, 65, 55])\n",
    "#Output : max is 65\n",
    "def MAX(set):\n",
    "    return (max(set))\n",
    "\n",
    "print(MAX(set))\n",
    "    "
   ]
  },
  {
   "cell_type": "code",
   "execution_count": 53,
   "id": "25b92ab3",
   "metadata": {},
   "outputs": [
    {
     "name": "stdout",
     "output_type": "stream",
     "text": [
      "1\n"
     ]
    }
   ],
   "source": [
    "def MIN(set):\n",
    "    return (min(set))\n",
    "print(MIN(set))"
   ]
  },
  {
   "cell_type": "code",
   "execution_count": 20,
   "id": "62de69e7",
   "metadata": {},
   "outputs": [
    {
     "name": "stdout",
     "output_type": "stream",
     "text": [
      "{9, 10, 12, 13, 15}\n",
      "{10, 12, 13, 15}\n",
      "{12, 13, 15}\n",
      "{13, 15}\n",
      "{15}\n",
      "set()\n"
     ]
    }
   ],
   "source": [
    "Set=set([12, 10, 13, 15, 8, 9])\n",
    "# Set.pop()\n",
    "# print(Set)\n",
    "# print(Set)\n",
    "# print(Set)\n",
    "def POP(Set):\n",
    "    while Set:\n",
    "        Set.pop()\n",
    "        print(Set)\n",
    "POP(Set)"
   ]
  },
  {
   "cell_type": "code",
   "execution_count": 35,
   "id": "377c4d55",
   "metadata": {},
   "outputs": [
    {
     "data": {
      "text/plain": [
       "True"
      ]
     },
     "execution_count": 35,
     "metadata": {},
     "output_type": "execute_result"
    }
   ],
   "source": [
    "a = [1, 2, 3, 4, 5]\n",
    "b = [5, 6, 7, 8, 9]\n",
    "def common(a,b):\n",
    "    result= False\n",
    "    for x in a:\n",
    "        for y in b:\n",
    "            if x==y:\n",
    "                result= True\n",
    "                return result\n",
    "    \n",
    "    return result\n",
    "\n",
    "common(a,b)"
   ]
  },
  {
   "cell_type": "code",
   "execution_count": 33,
   "id": "21bac890",
   "metadata": {},
   "outputs": [
    {
     "data": {
      "text/plain": [
       "True"
      ]
     },
     "execution_count": 33,
     "metadata": {},
     "output_type": "execute_result"
    }
   ],
   "source": [
    "def common_data(list1, list2):\n",
    "    result = False\n",
    " \n",
    "    # traverse in the 1st list\n",
    "    for x in list1:\n",
    " \n",
    "        # traverse in the 2nd list\n",
    "        for y in list2:\n",
    "   \n",
    "            # if one common\n",
    "            if x == y:\n",
    "                result = True\n",
    "                return result \n",
    "                 \n",
    "    return result\n",
    "common_data(a,b)"
   ]
  },
  {
   "cell_type": "code",
   "execution_count": 41,
   "id": "1e553309",
   "metadata": {},
   "outputs": [
    {
     "data": {
      "text/plain": [
       "[80, 20]"
      ]
     },
     "execution_count": 41,
     "metadata": {},
     "output_type": "execute_result"
    }
   ],
   "source": [
    "ar1 = [1, 5, 10, 20, 40, 80]\n",
    "ar2 = [6, 7, 20, 80, 100]\n",
    "ar3 = [3, 4, 15, 20, 30, 70, 80, 120]\n",
    "def common_d(ar1,ar2,ar3):\n",
    "    set1=set(ar1)\n",
    "    set2=set(ar2)\n",
    "    set3=set(ar3)\n",
    "    \n",
    "    return [ele for ele in set1 if ele in set2 and ele in set3]\n",
    "\n",
    "common_d(ar1,ar2,ar3)"
   ]
  },
  {
   "cell_type": "code",
   "execution_count": 43,
   "id": "eedfb6f2",
   "metadata": {},
   "outputs": [
    {
     "data": {
      "text/plain": [
       "[5]"
      ]
     },
     "execution_count": 43,
     "metadata": {},
     "output_type": "execute_result"
    }
   ],
   "source": [
    "a = [1, 2, 3, 4, 5]\n",
    "b = [5, 6, 7, 8, 9]\n",
    "def common(a,b):\n",
    "    set1=set(a)\n",
    "    set2=set(b)\n",
    "    \n",
    "    return [ele for ele in  set1 if ele in set2]\n",
    "\n",
    "common(a,b)"
   ]
  },
  {
   "cell_type": "code",
   "execution_count": 54,
   "id": "4d8eb974",
   "metadata": {},
   "outputs": [
    {
     "name": "stdout",
     "output_type": "stream",
     "text": [
      "Missing value in first list: {8, 7}\n",
      "Additional value in frist list: {1, 2, 3}\n",
      "Missing value in Second list: {1, 2, 3}\n",
      "Additional value in Second list: {8, 7}\n"
     ]
    }
   ],
   "source": [
    "list1 = [1, 2, 3, 4, 5, 6] \n",
    "list2 = [4, 5, 6, 7, 8] \n",
    "# Output : Missing values in list1 = [8, 7] \n",
    "#          Additional values in list1 = [1, 2, 3] \n",
    "#          Missing values in list2 = [1, 2, 3] \n",
    "#          Additional values in list2 = [7, 8] \n",
    "print(\"Missing value in first list:\",set(list2)-set(list1))\n",
    "print(\"Additional value in frist list:\",set(list1)-set(list2))\n",
    "\n",
    "print(\"Missing value in Second list:\",set(list1)-set(list2))\n",
    "print(\"Additional value in Second list:\",set(list2)-set(list1))\n"
   ]
  },
  {
   "cell_type": "code",
   "execution_count": 57,
   "id": "794c80a9",
   "metadata": {},
   "outputs": [
    {
     "name": "stdout",
     "output_type": "stream",
     "text": [
      "{10, 20, 30, 15}\n"
     ]
    }
   ],
   "source": [
    "list1 = [10, 15, 20, 25, 30, 35, 40]\n",
    "list2 = [25, 40, 35] \n",
    "# Output: [10, 15, 20, 30]\n",
    "r=set(list1)-set(list2)\n",
    "print(r)"
   ]
  },
  {
   "cell_type": "code",
   "execution_count": 76,
   "id": "56311d77",
   "metadata": {},
   "outputs": [
    {
     "name": "stdout",
     "output_type": "stream",
     "text": [
      "fgcb\n"
     ]
    }
   ],
   "source": [
    "S1 = \"aacdb\"\n",
    "S2 = \"gafd\"                                                         \n",
    "S3=[]\n",
    "#Output : “cbgf”\n",
    "s=(set(S1)^set(S2))\n",
    "print(\"\".join(s))"
   ]
  },
  {
   "cell_type": "code",
   "execution_count": 77,
   "id": "fe7d9303",
   "metadata": {},
   "outputs": [
    {
     "ename": "NameError",
     "evalue": "name 's1' is not defined",
     "output_type": "error",
     "traceback": [
      "\u001b[1;31m---------------------------------------------------------------------------\u001b[0m",
      "\u001b[1;31mNameError\u001b[0m                                 Traceback (most recent call last)",
      "Cell \u001b[1;32mIn[77], line 1\u001b[0m\n\u001b[1;32m----> 1\u001b[0m \u001b[38;5;28mprint\u001b[39m(\u001b[43ms1\u001b[49m\u001b[38;5;241m&\u001b[39ms2) \u001b[38;5;66;03m#intersection\u001b[39;00m\n\u001b[0;32m      2\u001b[0m \u001b[38;5;28mprint\u001b[39m(s1\u001b[38;5;241m|\u001b[39ms2) \u001b[38;5;66;03m#union of two set\u001b[39;00m\n\u001b[0;32m      3\u001b[0m \u001b[38;5;28mprint\u001b[39m(s1\u001b[38;5;241m^\u001b[39ms2) \u001b[38;5;66;03m#xor comman items present in both\u001b[39;00m\n",
      "\u001b[1;31mNameError\u001b[0m: name 's1' is not defined"
     ]
    }
   ],
   "source": [
    "print(s1&s2) #intersection\n",
    "print(s1|s2) #union of two set\n",
    "print(s1^s2) #xor comman items present in both\n",
    "print(s1-s2) #\n",
    "print(s2-s1)"
   ]
  },
  {
   "cell_type": "code",
   "execution_count": 79,
   "id": "4a0f95d0",
   "metadata": {},
   "outputs": [
    {
     "name": "stdout",
     "output_type": "stream",
     "text": [
      "{'c', 'a', 'b'}\n"
     ]
    }
   ],
   "source": [
    "mylist = [\"a\", \"b\", \"a\", \"c\", \"c\"]\n",
    "mylist = set(mylist)\n",
    "print(mylist)"
   ]
  },
  {
   "cell_type": "code",
   "execution_count": 22,
   "id": "80a22b64",
   "metadata": {},
   "outputs": [
    {
     "name": "stdout",
     "output_type": "stream",
     "text": [
      "67.0\n",
      "Value is 6.7\n"
     ]
    }
   ],
   "source": [
    "class Myclass:\n",
    "    def __init__(self,value):\n",
    "        self._value=value\n",
    "        \n",
    "    def show(self):\n",
    "        print(f\"Value is {self._value}\")\n",
    "          \n",
    "    @property\n",
    "    def ten_value(self):\n",
    "          return 10*self._value\n",
    "        \n",
    "    @ten_value.setter\n",
    "    def ten_value(self,new_value):\n",
    "        self._value=new_value/10\n",
    "        \n",
    "\n",
    "obj=Myclass(10)\n",
    "obj.ten_value=67\n",
    "print(obj.ten_value)\n",
    "obj.show()"
   ]
  },
  {
   "cell_type": "code",
   "execution_count": 10,
   "id": "c3ce13de",
   "metadata": {},
   "outputs": [
    {
     "name": "stdout",
     "output_type": "stream",
     "text": [
      "The name of employee is :Ritik and Id is :216\n",
      "The default language is Python\n"
     ]
    }
   ],
   "source": [
    "class Employee:\n",
    "    def __init__(self,name,id):\n",
    "        self.name=name\n",
    "        self.id=id\n",
    "        \n",
    "    def showDetails(self):\n",
    "        print(f\"The name of employee is :{self.name} and Id is :{self.id}\")\n",
    "        \n",
    "class Programmer(Employee):\n",
    "    def showLanguage(self):\n",
    "        print(\"The default language is Python\")\n",
    "        \n",
    "# e=Employee(\"Shubham\",215)\n",
    "# e.showDetails()\n",
    "\n",
    "e=Programmer(\"Ritik\",216)\n",
    "e.showDetails()\n",
    "e.showLanguage()"
   ]
  },
  {
   "cell_type": "code",
   "execution_count": 100,
   "id": "fffd917f",
   "metadata": {},
   "outputs": [
    {
     "name": "stdout",
     "output_type": "stream",
     "text": [
      "Shubham\n"
     ]
    }
   ],
   "source": [
    "class Employee:\n",
    "    def __init__(self,name):\n",
    "        self.__name=name\n",
    "    def getName(self):\n",
    "        return self.__name\n",
    "e=Employee(\"Shubham\")\n",
    "print(e.getName())\n"
   ]
  },
  {
   "cell_type": "code",
   "execution_count": 20,
   "id": "88f55fa3",
   "metadata": {},
   "outputs": [
    {
     "name": "stdout",
     "output_type": "stream",
     "text": [
      "The librabry has 3 books:['TMKOC', 'OC', 'KOC']\n"
     ]
    }
   ],
   "source": [
    "class Library:\n",
    "    def __init__(self):\n",
    "        self.no_books=0\n",
    "        self.book=[]\n",
    "       \n",
    "        \n",
    "    def add_books(self,books):\n",
    "        self.book.append(books)\n",
    "        self.no_books=len(self.book)\n",
    "    \n",
    "    def showInfo(self):\n",
    "        print(f\"The librabry has {self.no_books} books:{self.book}\")\n",
    "\n",
    "\n",
    "a=Library()\n",
    "a.add_books(\"TMKOC\")\n",
    "a.add_books(\"OC\")\n",
    "a.add_books(\"KOC\")\n",
    "a.showInfo()\n",
    "\n",
    "\n"
   ]
  },
  {
   "cell_type": "code",
   "execution_count": 25,
   "id": "bc5e7128",
   "metadata": {},
   "outputs": [
    {
     "name": "stdout",
     "output_type": "stream",
     "text": [
      "2\n",
      "2\n"
     ]
    }
   ],
   "source": [
    "class MyClass:\n",
    "    class_variable = 0\n",
    "    \n",
    "    def __init__(self):\n",
    "        MyClass.class_variable += 1\n",
    "        \n",
    "    def print_class_variable(self):\n",
    "        print(MyClass.class_variable)\n",
    "        \n",
    "\n",
    "obj1 = MyClass()\n",
    "obj2 = MyClass()\n",
    "\n",
    "obj1.print_class_variable()# Output: 2\n",
    "obj2.print_class_variable() # Output: 2"
   ]
  },
  {
   "cell_type": "code",
   "execution_count": 97,
   "id": "12c599c3",
   "metadata": {},
   "outputs": [
    {
     "name": "stdout",
     "output_type": "stream",
     "text": [
      "John\n"
     ]
    },
    {
     "ename": "TypeError",
     "evalue": "'str' object is not callable",
     "output_type": "error",
     "traceback": [
      "\u001b[1;31m---------------------------------------------------------------------------\u001b[0m",
      "\u001b[1;31mTypeError\u001b[0m                                 Traceback (most recent call last)",
      "Cell \u001b[1;32mIn[97], line 11\u001b[0m\n\u001b[0;32m      9\u001b[0m obj2 \u001b[38;5;241m=\u001b[39m MyClass(\u001b[38;5;124m\"\u001b[39m\u001b[38;5;124mJane\u001b[39m\u001b[38;5;124m\"\u001b[39m)\n\u001b[0;32m     10\u001b[0m \u001b[38;5;28mprint\u001b[39m(obj1\u001b[38;5;241m.\u001b[39mname) \u001b[38;5;66;03m# Output: John\u001b[39;00m\n\u001b[1;32m---> 11\u001b[0m \u001b[43mobj2\u001b[49m\u001b[38;5;241;43m.\u001b[39;49m\u001b[43mname\u001b[49m\u001b[43m(\u001b[49m\u001b[43m)\u001b[49m\n",
      "\u001b[1;31mTypeError\u001b[0m: 'str' object is not callable"
     ]
    }
   ],
   "source": [
    "class MyClass:\n",
    "    def __init__(self, name):\n",
    "        self.name = name\n",
    "        \n",
    "    def print_name(self):\n",
    "        print(self.name)\n",
    "\n",
    "obj1 = MyClass(\"John\")\n",
    "obj2 = MyClass(\"Jane\")\n",
    "print(obj1.name) # Output: John\n",
    "obj2.name() # Output: Jane"
   ]
  },
  {
   "cell_type": "code",
   "execution_count": 14,
   "id": "f8140d86",
   "metadata": {},
   "outputs": [
    {
     "name": "stdout",
     "output_type": "stream",
     "text": [
      "Bull DOg\n",
      "Barke\n",
      "Sound made by the animal\n"
     ]
    }
   ],
   "source": [
    "class Animal:\n",
    "    def __init__(self,name,species):\n",
    "        self.name=name\n",
    "        self.species=species\n",
    "        \n",
    "    def make_sound(self):\n",
    "        print(\"Sound made by the animal\")\n",
    "        \n",
    "class Dog(Animal):\n",
    "    def __init__(self,name,breed):\n",
    "        Animal.__init__(self,name,species=\"RAT\")\n",
    "        self.breed=breed\n",
    "            \n",
    "    def make_sound(self):\n",
    "        print(\"Barke\")\n",
    "        \n",
    "a=Dog(\"Bull\",\"DOg\")\n",
    "print(a.name,a.breed)\n",
    "a.make_sound()\n",
    "b=Animal(\"Cat\",'RAT')\n",
    "b.make_sound()"
   ]
  },
  {
   "cell_type": "code",
   "execution_count": 21,
   "id": "cb8c7f83",
   "metadata": {},
   "outputs": [
    {
     "name": "stdout",
     "output_type": "stream",
     "text": [
      "Sound made by animal\n"
     ]
    }
   ],
   "source": [
    "class Animal:\n",
    "    def __init__(self,name):\n",
    "        self.name=name\n",
    "        \n",
    "    def sound(self):\n",
    "        print(\"Sound made by animal\")\n",
    "class Cat(Animal):\n",
    "    def __init__(self,breed):\n",
    "        Animal. __init__(self,name=\"Cat\")\n",
    "        self.breed=breed\n",
    "        \n",
    "    def sound(self):\n",
    "        print(\"Mhewww\")\n",
    "        \n",
    "a= Animal(\"cat\")\n",
    "a.sound()"
   ]
  },
  {
   "cell_type": "markdown",
   "id": "233ffb3a",
   "metadata": {},
   "source": [
    "# MUltiple Inheritence"
   ]
  },
  {
   "cell_type": "code",
   "execution_count": 29,
   "id": "6908afdf",
   "metadata": {},
   "outputs": [
    {
     "name": "stdout",
     "output_type": "stream",
     "text": [
      "Name is Ritik and Dance is HipHop\n"
     ]
    }
   ],
   "source": [
    "class Employee():\n",
    "    def __init__(self,name):\n",
    "        self.name=name\n",
    "    \n",
    "    def show(self):\n",
    "        print(f\"The name is {self.name}\")\n",
    "        \n",
    "class Dancer():\n",
    "    def __init__(self,dance):\n",
    "        self.dance=dance\n",
    "    def show(self):\n",
    "        print(f\"Dance is {self.dance}\")\n",
    "    \n",
    "class EmployeeDancer(Dancer,Employee):\n",
    "    def __init__(self,name,dance):\n",
    "        self.name=name\n",
    "        self.dance=dance\n",
    "        \n",
    "    def show(self):\n",
    "        print(f\"Name is {self.name} and Dance is {self.dance}\")\n",
    "        \n",
    "o=EmployeeDancer(\"Ritik\",\"HipHop\")\n",
    "o.show()"
   ]
  },
  {
   "cell_type": "code",
   "execution_count": 37,
   "id": "711504b1",
   "metadata": {},
   "outputs": [
    {
     "name": "stdout",
     "output_type": "stream",
     "text": [
      "Ger\n",
      "Sound by Animal\n",
      "Bull Lab\n",
      "barke\n"
     ]
    }
   ],
   "source": [
    "class Animal:\n",
    "    def __init__(self,name):\n",
    "        self.name=name\n",
    "        \n",
    "    def sound(self):\n",
    "        print(\"Sound by Animal\")\n",
    "        \n",
    "class Dog(Animal):\n",
    "    def __init__(self,breed):\n",
    "        Animal.__init__(self,name=\"Bull\")\n",
    "        self.breed=breed\n",
    "        \n",
    "    def sound(self):\n",
    "        print(\"barke\")\n",
    "        \n",
    "o=Animal(\"Ger\")\n",
    "print(o.name)\n",
    "o.sound()\n",
    "o1=Dog(\"Lab\")\n",
    "print(o1.name,o1.breed)\n",
    "o1.sound()"
   ]
  },
  {
   "cell_type": "markdown",
   "id": "86a3edc6",
   "metadata": {},
   "source": [
    "# MULTIPLE -- 1 CHILD MULTIPLE PARENTS"
   ]
  },
  {
   "cell_type": "code",
   "execution_count": 42,
   "id": "668b5dd8",
   "metadata": {},
   "outputs": [
    {
     "name": "stdout",
     "output_type": "stream",
     "text": [
      "Name is Ritik and Dance is HipHop\n",
      "Name is Sonika\n",
      "Dance is Style\n"
     ]
    }
   ],
   "source": [
    "class Employee:\n",
    "    def __init__(self,name):\n",
    "        self.name=name\n",
    "        \n",
    "    def show(self):\n",
    "        print(f\"Name is {self.name}\")\n",
    "        \n",
    "class Dancer:\n",
    "    def __init__(self,dance):\n",
    "        self.dance=dance\n",
    "        \n",
    "    def show(self):\n",
    "        print(f\"Dance is {self.dance}\")\n",
    "        \n",
    "class EmployeeDancer(Employee,Dancer):\n",
    "    def __init__(self,name,dance):\n",
    "        self.name=name\n",
    "        self.dance=dance\n",
    "        \n",
    "    def show(self):\n",
    "        print(f\"Name is {self.name} and Dance is {self.dance}\")\n",
    "        \n",
    "o=EmployeeDancer(\"Ritik\",\"HipHop\")\n",
    "o.show()\n",
    "\n",
    "o1=Employee(\"Sonika\")\n",
    "o1.show()\n",
    "o2=Dancer(\"Style\")\n",
    "o2.show()"
   ]
  },
  {
   "cell_type": "code",
   "execution_count": 2,
   "id": "4925a0e3",
   "metadata": {},
   "outputs": [
    {
     "name": "stdout",
     "output_type": "stream",
     "text": [
      "GeeksforGeeks\n",
      "GeeksforGeeks\n"
     ]
    }
   ],
   "source": [
    "class Base: \n",
    "    def __init__(self): \n",
    "        self.a = \"GeeksforGeeks\"\n",
    "        self.__c = \"GeeksforGeeks\" \n",
    "  \n",
    "# Creating a derived class \n",
    "class Derived(Base): \n",
    "    def __init__(self): \n",
    "  \n",
    "        # Calling constructor of \n",
    "        # Base class \n",
    "        Base.__init__(self) \n",
    "        print(\"Calling private member of base class: \") \n",
    "        print(self.__c) \n",
    "  \n",
    "  \n",
    "# Driver code \n",
    "obj1 = Base() \n",
    "print(obj1.a) \n",
    "print(obj1._Base__c)"
   ]
  },
  {
   "cell_type": "code",
   "execution_count": 4,
   "id": "471a35bf",
   "metadata": {},
   "outputs": [
    {
     "name": "stdout",
     "output_type": "stream",
     "text": [
      "21\n",
      "42\n"
     ]
    }
   ],
   "source": [
    "# Python program to demonstrate private members\n",
    "# of the parent class\n",
    "\n",
    "class C(object):\n",
    "\tdef __init__(self):\n",
    "\t\tself.c = 21\n",
    "\n",
    "\t\t# d is private instance variable\n",
    "\t\tself.__d = 42\n",
    "\n",
    "\n",
    "class D(C):\n",
    "\tdef __init__(self):\n",
    "\t\tself.e = 84\n",
    "\t\tC.__init__(self)\n",
    "\n",
    "object1 = D()\n",
    "\n",
    "# produces an error as d is private instance variable\n",
    "print(object1.c)\n",
    "print(object1._C__d)\n"
   ]
  },
  {
   "cell_type": "markdown",
   "id": "524519b1",
   "metadata": {},
   "source": [
    "# MULTI LEVEL-- 1 Parent , Multiple childs"
   ]
  },
  {
   "cell_type": "code",
   "execution_count": 5,
   "id": "71e88557",
   "metadata": {},
   "outputs": [
    {
     "name": "stdout",
     "output_type": "stream",
     "text": [
      "Name: tommy\n",
      "Species: Dog\n",
      "Breed: Black\n"
     ]
    }
   ],
   "source": [
    "class Animal:\n",
    "    def __init__(self, name, species):\n",
    "        self.name = name\n",
    "        self.species = species\n",
    "        \n",
    "    def show_details(self):\n",
    "        print(f\"Name: {self.name}\")\n",
    "        print(f\"Species: {self.species}\")\n",
    "        \n",
    "class Dog(Animal):\n",
    "    def __init__(self, name, breed):\n",
    "        Animal.__init__(self, name, species=\"Dog\")\n",
    "        self.breed = breed\n",
    "        \n",
    "    def show_details(self):\n",
    "        Animal.show_details(self)\n",
    "        print(f\"Breed: {self.breed}\")\n",
    "        \n",
    "class GoldenRetriever(Dog):\n",
    "    def __init__(self, name, color):\n",
    "        Dog.__init__(self, name, breed=\"Golden Retriever\")\n",
    "        self.color = color\n",
    "        \n",
    "    def show_details(self):\n",
    "        Dog.show_details(self)\n",
    "        print(f\"Color: {self.color}\")\n",
    "\n",
    "o = Dog(\"tommy\", \"Black\")\n",
    "o.show_details()"
   ]
  },
  {
   "cell_type": "code",
   "execution_count": 11,
   "id": "1d2e2b13",
   "metadata": {},
   "outputs": [
    {
     "name": "stdout",
     "output_type": "stream",
     "text": [
      "Name:Castro\n",
      "Species:Dog\n",
      "Breed :Lab\n",
      "Name:Tommy\n",
      "Species:Dog\n",
      "Breed :Bulldog\n",
      "Color :Black\n"
     ]
    }
   ],
   "source": [
    "class Animal:\n",
    "    def __init__(self,name,species):\n",
    "        self.name=name\n",
    "        self.species=species\n",
    "        \n",
    "    def details(self):\n",
    "        print(f\"Name:{self.name}\")\n",
    "        print(f\"Species:{self.species}\")\n",
    "        \n",
    "class Dog(Animal):\n",
    "    def __init__(self,name,breed):\n",
    "        Animal.__init__(self,name,species=\"Dog\")\n",
    "        self.breed=breed\n",
    "        \n",
    "    def details(self):\n",
    "        Animal.details(self)\n",
    "        print(f\"Breed :{self.breed}\")\n",
    "        \n",
    "class Bulldog(Dog):\n",
    "    def __init__(self,name,color):\n",
    "        Dog.__init__(self,name,breed=\"Bulldog\")\n",
    "        self.color=color\n",
    "        \n",
    "    def details(self):\n",
    "        Dog.details(self)\n",
    "        print(f\"Color :{self.color}\")\n",
    "# i=Animal(\"sh\",'kj')\n",
    "# i.details()\n",
    "\n",
    "o=Dog(\"Castro\",\"Lab\")\n",
    "o.details()\n",
    "\n",
    "\n",
    "p=Bulldog(\"Tommy\",\"Black\")\n",
    "p.details()"
   ]
  },
  {
   "cell_type": "code",
   "execution_count": 20,
   "id": "6b65e625",
   "metadata": {},
   "outputs": [
    {
     "name": "stdout",
     "output_type": "stream",
     "text": [
      "5\n",
      "Name :Rubyy\n",
      "Species :Cat\n",
      "Breed :Pursian\n",
      "Color :White\n"
     ]
    }
   ],
   "source": [
    "class Animal:\n",
    "    def __init__(self,name,species):\n",
    "        self.name=name\n",
    "        self.species=species\n",
    "        \n",
    "    def show(self):\n",
    "        print(f\"Name :{self.name}\")\n",
    "        print(f\"Species :{self.species}\")\n",
    "    \n",
    "class Cat(Animal):\n",
    "    def __init__(self,name,breed):\n",
    "        Animal.__init__(self,name,species=\"Cat\")\n",
    "        self.breed=breed\n",
    "        \n",
    "    def show(self):\n",
    "        Animal.show(self)\n",
    "        print(f\"Breed :{self.breed}\")\n",
    "        \n",
    "class Pursian(Cat):\n",
    "    def __init__(self,name,color):\n",
    "        Cat.__init__(self,name,breed=\"Pursian\")\n",
    "        self.color=color\n",
    "        \n",
    "    def show(self):\n",
    "        Cat.show(self)\n",
    "        print(f\"Color :{self.color}\")\n",
    "\n",
    "\n",
    "\n",
    "o=Pursian(\"Rubyy\",\"White\")\n",
    "print(len(o.name))\n",
    "o.show()"
   ]
  },
  {
   "cell_type": "code",
   "execution_count": 33,
   "id": "9aab5996",
   "metadata": {},
   "outputs": [
    {
     "name": "stdout",
     "output_type": "stream",
     "text": [
      "Name is Rohan and Average score 35.666666666666664\n"
     ]
    },
    {
     "ename": "AttributeError",
     "evalue": "'Student' object has no attribute 'name'",
     "output_type": "error",
     "traceback": [
      "\u001b[1;31m---------------------------------------------------------------------------\u001b[0m",
      "\u001b[1;31mAttributeError\u001b[0m                            Traceback (most recent call last)",
      "Cell \u001b[1;32mIn[33], line 15\u001b[0m\n\u001b[0;32m     13\u001b[0m o\u001b[38;5;241m.\u001b[39maverage()\n\u001b[0;32m     14\u001b[0m \u001b[38;5;28;01mdel\u001b[39;00m (o\u001b[38;5;241m.\u001b[39mname)\n\u001b[1;32m---> 15\u001b[0m \u001b[38;5;28mprint\u001b[39m(\u001b[43mo\u001b[49m\u001b[38;5;241;43m.\u001b[39;49m\u001b[43mname\u001b[49m)\n",
      "\u001b[1;31mAttributeError\u001b[0m: 'Student' object has no attribute 'name'"
     ]
    }
   ],
   "source": [
    "class Student:\n",
    "    def __init__(self,name,marks):\n",
    "        self.name=name\n",
    "        self.marks=marks\n",
    "        \n",
    "    def average(self):\n",
    "        sum=0\n",
    "        for i in self.marks: \n",
    "            sum+=i\n",
    "        print(f\"Name is {self.name} and Average score {sum/3}\")\n",
    "\n",
    "o=Student(\"Rohan\",[36,35,36])\n",
    "o.average()\n",
    "del (o.name)\n",
    "print(o.name)"
   ]
  },
  {
   "cell_type": "code",
   "execution_count": 26,
   "id": "0c52eaf1",
   "metadata": {},
   "outputs": [
    {
     "name": "stdout",
     "output_type": "stream",
     "text": [
      "Available Balance 5000 Rs\n",
      "Account 969066XXX Credited with 500Rs.,Aval Balance 5500Rs.\n",
      "Account 969066XXX Debited with 2000Rs.,Aval Balance 3500Rs.\n"
     ]
    },
    {
     "data": {
      "text/plain": [
       "'Avaliable Balance :3500Rs.'"
      ]
     },
     "execution_count": 26,
     "metadata": {},
     "output_type": "execute_result"
    }
   ],
   "source": [
    "class Account:\n",
    "    def __init__(self,bal,acc_no):\n",
    "        self.bal=bal\n",
    "        self.acc_no=acc_no\n",
    "        \n",
    "    def credit(self,amount):\n",
    "        self.amount=amount\n",
    "        self.bal+=amount\n",
    "        print(f\"Account {self.acc_no} Credited with {self.amount}Rs.,Aval Balance {self.bal}Rs.\")\n",
    "        \n",
    "    def debit(self,amount):\n",
    "        self.amount=amount\n",
    "        self.bal-=amount\n",
    "        print(f\"Account {self.acc_no} Debited with {self.amount}Rs.,Aval Balance {self.bal}Rs.\")\n",
    "        \n",
    "    def passBook(self):\n",
    "        return (f\"Avaliable Balance :{self.bal}Rs.\")\n",
    "\n",
    "o=Account(5000,\"969066XXX\")\n",
    "print(\"Available Balance\",o.bal,\"Rs\")\n",
    "o.credit(500)\n",
    "o.debit(2000)\n",
    "o.passBook()"
   ]
  },
  {
   "cell_type": "markdown",
   "id": "49270a60",
   "metadata": {},
   "source": [
    "# Method Overiding"
   ]
  },
  {
   "cell_type": "code",
   "execution_count": 42,
   "id": "80a749e8",
   "metadata": {},
   "outputs": [
    {
     "data": {
      "text/plain": [
       "12.56"
      ]
     },
     "execution_count": 42,
     "metadata": {},
     "output_type": "execute_result"
    }
   ],
   "source": [
    "class shape:\n",
    "    def __init__(self,x,y):\n",
    "        self.x=x\n",
    "        self.y=y\n",
    "        \n",
    "    def area(self):\n",
    "        return self.x*self.y\n",
    "    \n",
    "class Circle(shape):\n",
    "    def __init__(self,radius):\n",
    "        self.radius=radius\n",
    "        super().__init__(radius,radius)\n",
    "        \n",
    "    def area(self):\n",
    "        return 3.14* super().area()\n",
    "    \n",
    "rec=shape(2,3)\n",
    "rec.area()\n",
    "\n",
    "cir=Circle(2)\n",
    "cir.area()"
   ]
  },
  {
   "cell_type": "code",
   "execution_count": 71,
   "id": "409f74a2",
   "metadata": {},
   "outputs": [],
   "source": [
    "import os\n",
    "\n",
    "if(not os.path.exists(\"Cat\")):\n",
    "    os.mkdir(\"Cat\")\n",
    "    \n",
    "for i in range(0,100):\n",
    "    os.rename(f\"Cat/Day{i+1}\",f\"Cat/Tues{i+1}\")\n",
    "    \n"
   ]
  },
  {
   "cell_type": "code",
   "execution_count": 74,
   "id": "e7260104",
   "metadata": {},
   "outputs": [],
   "source": [
    " with open(\"myfile.txt\",\"w\") as f:\n",
    "    f.write(\"Hello Shub\")"
   ]
  },
  {
   "cell_type": "code",
   "execution_count": 77,
   "id": "336bf946",
   "metadata": {},
   "outputs": [],
   "source": [
    "with open(\"myfile.txt\",\"a\") as f:\n",
    "    f.write(\" Good Morning\")"
   ]
  },
  {
   "cell_type": "code",
   "execution_count": 80,
   "id": "26e23bdf",
   "metadata": {},
   "outputs": [],
   "source": [
    "with open(\"myfile.txt\",\"r\") as f:\n",
    "    f.readline()"
   ]
  },
  {
   "cell_type": "code",
   "execution_count": 95,
   "id": "4a373189",
   "metadata": {},
   "outputs": [
    {
     "name": "stdout",
     "output_type": "stream",
     "text": [
      "Hindi\n",
      "Shub\n",
      "123\n"
     ]
    }
   ],
   "source": [
    "class Employee:\n",
    "    def __init__(self,name,id):\n",
    "        self.name=name\n",
    "        self.id=id\n",
    "        \n",
    "class Programmer(Employee):\n",
    "    def __init__(self,name,id,lang):\n",
    "        super().__init__(name,id)\n",
    "        self.lang=lang\n",
    "        \n",
    "P1=Programmer(\"Shub\",\"123\",\"Hindi\")\n",
    "print(P1.lang)\n",
    "print(P1.name)\n",
    "print(P1.id)"
   ]
  },
  {
   "cell_type": "code",
   "execution_count": null,
   "id": "4bb1163c",
   "metadata": {},
   "outputs": [],
   "source": []
  },
  {
   "cell_type": "code",
   "execution_count": null,
   "id": "3917a563",
   "metadata": {},
   "outputs": [],
   "source": []
  }
 ],
 "metadata": {
  "kernelspec": {
   "display_name": "Python 3 (ipykernel)",
   "language": "python",
   "name": "python3"
  },
  "language_info": {
   "codemirror_mode": {
    "name": "ipython",
    "version": 3
   },
   "file_extension": ".py",
   "mimetype": "text/x-python",
   "name": "python",
   "nbconvert_exporter": "python",
   "pygments_lexer": "ipython3",
   "version": "3.10.9"
  }
 },
 "nbformat": 4,
 "nbformat_minor": 5
}
